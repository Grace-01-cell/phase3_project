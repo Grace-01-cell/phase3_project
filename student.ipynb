{
 "cells": [
  {
   "attachments": {},
   "cell_type": "markdown",
   "metadata": {},
   "source": [
    "### BUSINESS UNDERSTANDING AND DATA UNDERSTANDING"
   ]
  },
  {
   "attachments": {},
   "cell_type": "markdown",
   "metadata": {},
   "source": [
    "##### Business overview"
   ]
  },
  {
   "attachments": {},
   "cell_type": "markdown",
   "metadata": {},
   "source": []
  },
  {
   "attachments": {},
   "cell_type": "markdown",
   "metadata": {},
   "source": [
    "#### The objective was to build a classifier to determine if a customer would ‘soon’ leave SyriaTel, and to determine if there were predictable patterns."
   ]
  },
  {
   "attachments": {},
   "cell_type": "markdown",
   "metadata": {},
   "source": [
    "##### 1.What features of the dataset are primary determinants of customer churn and to what extent?\n",
    "##### 2. What are the ways that these findings can be interpreted and how can SyriaTel implement cost-effective solutions?\n",
    "\n",
    "##### 3. Will these solutions be feasible in reducing the customer churn rate by at least 7%?"
   ]
  },
  {
   "attachments": {},
   "cell_type": "markdown",
   "metadata": {},
   "source": [
    "___"
   ]
  },
  {
   "attachments": {},
   "cell_type": "markdown",
   "metadata": {},
   "source": [
    "#### Data understanding"
   ]
  },
  {
   "attachments": {},
   "cell_type": "markdown",
   "metadata": {},
   "source": [
    "##### importing necessary libraries"
   ]
  },
  {
   "cell_type": "code",
   "execution_count": 1,
   "metadata": {},
   "outputs": [],
   "source": [
    "import pandas as pd\n",
    "import numpy as np\n",
    "import seaborn as sns\n",
    "from scipy import stats as stats\n",
    "import matplotlib.pyplot as plt\n",
    "%matplotlib inline\n",
    "\n",
    "from sklearn.dummy import DummyClassifier\n",
    "from sklearn.linear_model import LogisticRegression\n",
    "from sklearn.neighbors import KNeighborsClassifier\n",
    "from sklearn.tree import DecisionTreeClassifier\n",
    "from sklearn.preprocessing import StandardScaler,MinMaxScaler,OneHotEncoder\n",
    "from sklearn.model_selection import train_test_split,cross_val_score,GridSearchCV,cross_validate,cross_val_predict\n",
    "\n",
    "from sklearn.pipeline import Pipeline\n",
    "from imblearn.over_sampling import SMOTE\n",
    "from sklearn.compose import ColumnTransformer\n",
    "from imblearn.under_sampling import RandomUnderSampler\n",
    "from sklearn import metrics\n",
    "from sklearn.ensemble import RandomForestClassifier\n",
    "\n",
    "\n",
    "\n",
    "from sklearn.metrics import recall_score, accuracy_score, precision_score, f1_score, confusion_matrix, ConfusionMatrixDisplay,classification_report\n",
    "\n",
    "\n"
   ]
  },
  {
   "cell_type": "code",
   "execution_count": 2,
   "metadata": {},
   "outputs": [],
   "source": [
    "#The relative path to our dataset\n",
    "path=\"C:\\\\Users\\\\HP\\\\Documents\\\\PROJECT 3\\\\bigml_59c28831336c6604c800002a (1).csv\""
   ]
  },
  {
   "cell_type": "code",
   "execution_count": 3,
   "metadata": {},
   "outputs": [
    {
     "data": {
      "text/html": [
       "<div>\n",
       "<style scoped>\n",
       "    .dataframe tbody tr th:only-of-type {\n",
       "        vertical-align: middle;\n",
       "    }\n",
       "\n",
       "    .dataframe tbody tr th {\n",
       "        vertical-align: top;\n",
       "    }\n",
       "\n",
       "    .dataframe thead th {\n",
       "        text-align: right;\n",
       "    }\n",
       "</style>\n",
       "<table border=\"1\" class=\"dataframe\">\n",
       "  <thead>\n",
       "    <tr style=\"text-align: right;\">\n",
       "      <th></th>\n",
       "      <th>state</th>\n",
       "      <th>account length</th>\n",
       "      <th>area code</th>\n",
       "      <th>phone number</th>\n",
       "      <th>international plan</th>\n",
       "      <th>voice mail plan</th>\n",
       "      <th>number vmail messages</th>\n",
       "      <th>total day minutes</th>\n",
       "      <th>total day calls</th>\n",
       "      <th>total day charge</th>\n",
       "      <th>...</th>\n",
       "      <th>total eve calls</th>\n",
       "      <th>total eve charge</th>\n",
       "      <th>total night minutes</th>\n",
       "      <th>total night calls</th>\n",
       "      <th>total night charge</th>\n",
       "      <th>total intl minutes</th>\n",
       "      <th>total intl calls</th>\n",
       "      <th>total intl charge</th>\n",
       "      <th>customer service calls</th>\n",
       "      <th>churn</th>\n",
       "    </tr>\n",
       "  </thead>\n",
       "  <tbody>\n",
       "    <tr>\n",
       "      <th>0</th>\n",
       "      <td>KS</td>\n",
       "      <td>128</td>\n",
       "      <td>415</td>\n",
       "      <td>382-4657</td>\n",
       "      <td>no</td>\n",
       "      <td>yes</td>\n",
       "      <td>25</td>\n",
       "      <td>265.1</td>\n",
       "      <td>110</td>\n",
       "      <td>45.07</td>\n",
       "      <td>...</td>\n",
       "      <td>99</td>\n",
       "      <td>16.78</td>\n",
       "      <td>244.7</td>\n",
       "      <td>91</td>\n",
       "      <td>11.01</td>\n",
       "      <td>10.0</td>\n",
       "      <td>3</td>\n",
       "      <td>2.70</td>\n",
       "      <td>1</td>\n",
       "      <td>False</td>\n",
       "    </tr>\n",
       "    <tr>\n",
       "      <th>1</th>\n",
       "      <td>OH</td>\n",
       "      <td>107</td>\n",
       "      <td>415</td>\n",
       "      <td>371-7191</td>\n",
       "      <td>no</td>\n",
       "      <td>yes</td>\n",
       "      <td>26</td>\n",
       "      <td>161.6</td>\n",
       "      <td>123</td>\n",
       "      <td>27.47</td>\n",
       "      <td>...</td>\n",
       "      <td>103</td>\n",
       "      <td>16.62</td>\n",
       "      <td>254.4</td>\n",
       "      <td>103</td>\n",
       "      <td>11.45</td>\n",
       "      <td>13.7</td>\n",
       "      <td>3</td>\n",
       "      <td>3.70</td>\n",
       "      <td>1</td>\n",
       "      <td>False</td>\n",
       "    </tr>\n",
       "    <tr>\n",
       "      <th>2</th>\n",
       "      <td>NJ</td>\n",
       "      <td>137</td>\n",
       "      <td>415</td>\n",
       "      <td>358-1921</td>\n",
       "      <td>no</td>\n",
       "      <td>no</td>\n",
       "      <td>0</td>\n",
       "      <td>243.4</td>\n",
       "      <td>114</td>\n",
       "      <td>41.38</td>\n",
       "      <td>...</td>\n",
       "      <td>110</td>\n",
       "      <td>10.30</td>\n",
       "      <td>162.6</td>\n",
       "      <td>104</td>\n",
       "      <td>7.32</td>\n",
       "      <td>12.2</td>\n",
       "      <td>5</td>\n",
       "      <td>3.29</td>\n",
       "      <td>0</td>\n",
       "      <td>False</td>\n",
       "    </tr>\n",
       "    <tr>\n",
       "      <th>3</th>\n",
       "      <td>OH</td>\n",
       "      <td>84</td>\n",
       "      <td>408</td>\n",
       "      <td>375-9999</td>\n",
       "      <td>yes</td>\n",
       "      <td>no</td>\n",
       "      <td>0</td>\n",
       "      <td>299.4</td>\n",
       "      <td>71</td>\n",
       "      <td>50.90</td>\n",
       "      <td>...</td>\n",
       "      <td>88</td>\n",
       "      <td>5.26</td>\n",
       "      <td>196.9</td>\n",
       "      <td>89</td>\n",
       "      <td>8.86</td>\n",
       "      <td>6.6</td>\n",
       "      <td>7</td>\n",
       "      <td>1.78</td>\n",
       "      <td>2</td>\n",
       "      <td>False</td>\n",
       "    </tr>\n",
       "    <tr>\n",
       "      <th>4</th>\n",
       "      <td>OK</td>\n",
       "      <td>75</td>\n",
       "      <td>415</td>\n",
       "      <td>330-6626</td>\n",
       "      <td>yes</td>\n",
       "      <td>no</td>\n",
       "      <td>0</td>\n",
       "      <td>166.7</td>\n",
       "      <td>113</td>\n",
       "      <td>28.34</td>\n",
       "      <td>...</td>\n",
       "      <td>122</td>\n",
       "      <td>12.61</td>\n",
       "      <td>186.9</td>\n",
       "      <td>121</td>\n",
       "      <td>8.41</td>\n",
       "      <td>10.1</td>\n",
       "      <td>3</td>\n",
       "      <td>2.73</td>\n",
       "      <td>3</td>\n",
       "      <td>False</td>\n",
       "    </tr>\n",
       "  </tbody>\n",
       "</table>\n",
       "<p>5 rows × 21 columns</p>\n",
       "</div>"
      ],
      "text/plain": [
       "  state  account length  area code phone number international plan  \\\n",
       "0    KS             128        415     382-4657                 no   \n",
       "1    OH             107        415     371-7191                 no   \n",
       "2    NJ             137        415     358-1921                 no   \n",
       "3    OH              84        408     375-9999                yes   \n",
       "4    OK              75        415     330-6626                yes   \n",
       "\n",
       "  voice mail plan  number vmail messages  total day minutes  total day calls  \\\n",
       "0             yes                     25              265.1              110   \n",
       "1             yes                     26              161.6              123   \n",
       "2              no                      0              243.4              114   \n",
       "3              no                      0              299.4               71   \n",
       "4              no                      0              166.7              113   \n",
       "\n",
       "   total day charge  ...  total eve calls  total eve charge  \\\n",
       "0             45.07  ...               99             16.78   \n",
       "1             27.47  ...              103             16.62   \n",
       "2             41.38  ...              110             10.30   \n",
       "3             50.90  ...               88              5.26   \n",
       "4             28.34  ...              122             12.61   \n",
       "\n",
       "   total night minutes  total night calls  total night charge  \\\n",
       "0                244.7                 91               11.01   \n",
       "1                254.4                103               11.45   \n",
       "2                162.6                104                7.32   \n",
       "3                196.9                 89                8.86   \n",
       "4                186.9                121                8.41   \n",
       "\n",
       "   total intl minutes  total intl calls  total intl charge  \\\n",
       "0                10.0                 3               2.70   \n",
       "1                13.7                 3               3.70   \n",
       "2                12.2                 5               3.29   \n",
       "3                 6.6                 7               1.78   \n",
       "4                10.1                 3               2.73   \n",
       "\n",
       "   customer service calls  churn  \n",
       "0                       1  False  \n",
       "1                       1  False  \n",
       "2                       0  False  \n",
       "3                       2  False  \n",
       "4                       3  False  \n",
       "\n",
       "[5 rows x 21 columns]"
      ]
     },
     "execution_count": 3,
     "metadata": {},
     "output_type": "execute_result"
    }
   ],
   "source": [
    "# Loading the dataset and getting the top 5\n",
    "data= pd.read_csv(path)\n",
    "data.head()"
   ]
  },
  {
   "cell_type": "code",
   "execution_count": 4,
   "metadata": {},
   "outputs": [
    {
     "name": "stdout",
     "output_type": "stream",
     "text": [
      "<class 'pandas.core.frame.DataFrame'>\n",
      "RangeIndex: 3333 entries, 0 to 3332\n",
      "Data columns (total 21 columns):\n",
      " #   Column                  Non-Null Count  Dtype  \n",
      "---  ------                  --------------  -----  \n",
      " 0   state                   3333 non-null   object \n",
      " 1   account length          3333 non-null   int64  \n",
      " 2   area code               3333 non-null   int64  \n",
      " 3   phone number            3333 non-null   object \n",
      " 4   international plan      3333 non-null   object \n",
      " 5   voice mail plan         3333 non-null   object \n",
      " 6   number vmail messages   3333 non-null   int64  \n",
      " 7   total day minutes       3333 non-null   float64\n",
      " 8   total day calls         3333 non-null   int64  \n",
      " 9   total day charge        3333 non-null   float64\n",
      " 10  total eve minutes       3333 non-null   float64\n",
      " 11  total eve calls         3333 non-null   int64  \n",
      " 12  total eve charge        3333 non-null   float64\n",
      " 13  total night minutes     3333 non-null   float64\n",
      " 14  total night calls       3333 non-null   int64  \n",
      " 15  total night charge      3333 non-null   float64\n",
      " 16  total intl minutes      3333 non-null   float64\n",
      " 17  total intl calls        3333 non-null   int64  \n",
      " 18  total intl charge       3333 non-null   float64\n",
      " 19  customer service calls  3333 non-null   int64  \n",
      " 20  churn                   3333 non-null   bool   \n",
      "dtypes: bool(1), float64(8), int64(8), object(4)\n",
      "memory usage: 524.2+ KB\n"
     ]
    }
   ],
   "source": [
    "#information in our dataset\n",
    "data.info()"
   ]
  },
  {
   "cell_type": "code",
   "execution_count": 5,
   "metadata": {},
   "outputs": [
    {
     "data": {
      "text/plain": [
       "(3333, 21)"
      ]
     },
     "execution_count": 5,
     "metadata": {},
     "output_type": "execute_result"
    }
   ],
   "source": [
    "#The shape of our data frame\n",
    "data.shape"
   ]
  },
  {
   "cell_type": "code",
   "execution_count": 6,
   "metadata": {},
   "outputs": [
    {
     "data": {
      "text/html": [
       "<div>\n",
       "<style scoped>\n",
       "    .dataframe tbody tr th:only-of-type {\n",
       "        vertical-align: middle;\n",
       "    }\n",
       "\n",
       "    .dataframe tbody tr th {\n",
       "        vertical-align: top;\n",
       "    }\n",
       "\n",
       "    .dataframe thead th {\n",
       "        text-align: right;\n",
       "    }\n",
       "</style>\n",
       "<table border=\"1\" class=\"dataframe\">\n",
       "  <thead>\n",
       "    <tr style=\"text-align: right;\">\n",
       "      <th></th>\n",
       "      <th>account length</th>\n",
       "      <th>area code</th>\n",
       "      <th>number vmail messages</th>\n",
       "      <th>total day minutes</th>\n",
       "      <th>total day calls</th>\n",
       "      <th>total day charge</th>\n",
       "      <th>total eve minutes</th>\n",
       "      <th>total eve calls</th>\n",
       "      <th>total eve charge</th>\n",
       "      <th>total night minutes</th>\n",
       "      <th>total night calls</th>\n",
       "      <th>total night charge</th>\n",
       "      <th>total intl minutes</th>\n",
       "      <th>total intl calls</th>\n",
       "      <th>total intl charge</th>\n",
       "      <th>customer service calls</th>\n",
       "    </tr>\n",
       "  </thead>\n",
       "  <tbody>\n",
       "    <tr>\n",
       "      <th>count</th>\n",
       "      <td>3333.000000</td>\n",
       "      <td>3333.000000</td>\n",
       "      <td>3333.000000</td>\n",
       "      <td>3333.000000</td>\n",
       "      <td>3333.000000</td>\n",
       "      <td>3333.000000</td>\n",
       "      <td>3333.000000</td>\n",
       "      <td>3333.000000</td>\n",
       "      <td>3333.000000</td>\n",
       "      <td>3333.000000</td>\n",
       "      <td>3333.000000</td>\n",
       "      <td>3333.000000</td>\n",
       "      <td>3333.000000</td>\n",
       "      <td>3333.000000</td>\n",
       "      <td>3333.000000</td>\n",
       "      <td>3333.000000</td>\n",
       "    </tr>\n",
       "    <tr>\n",
       "      <th>mean</th>\n",
       "      <td>101.064806</td>\n",
       "      <td>437.182418</td>\n",
       "      <td>8.099010</td>\n",
       "      <td>179.775098</td>\n",
       "      <td>100.435644</td>\n",
       "      <td>30.562307</td>\n",
       "      <td>200.980348</td>\n",
       "      <td>100.114311</td>\n",
       "      <td>17.083540</td>\n",
       "      <td>200.872037</td>\n",
       "      <td>100.107711</td>\n",
       "      <td>9.039325</td>\n",
       "      <td>10.237294</td>\n",
       "      <td>4.479448</td>\n",
       "      <td>2.764581</td>\n",
       "      <td>1.562856</td>\n",
       "    </tr>\n",
       "    <tr>\n",
       "      <th>std</th>\n",
       "      <td>39.822106</td>\n",
       "      <td>42.371290</td>\n",
       "      <td>13.688365</td>\n",
       "      <td>54.467389</td>\n",
       "      <td>20.069084</td>\n",
       "      <td>9.259435</td>\n",
       "      <td>50.713844</td>\n",
       "      <td>19.922625</td>\n",
       "      <td>4.310668</td>\n",
       "      <td>50.573847</td>\n",
       "      <td>19.568609</td>\n",
       "      <td>2.275873</td>\n",
       "      <td>2.791840</td>\n",
       "      <td>2.461214</td>\n",
       "      <td>0.753773</td>\n",
       "      <td>1.315491</td>\n",
       "    </tr>\n",
       "    <tr>\n",
       "      <th>min</th>\n",
       "      <td>1.000000</td>\n",
       "      <td>408.000000</td>\n",
       "      <td>0.000000</td>\n",
       "      <td>0.000000</td>\n",
       "      <td>0.000000</td>\n",
       "      <td>0.000000</td>\n",
       "      <td>0.000000</td>\n",
       "      <td>0.000000</td>\n",
       "      <td>0.000000</td>\n",
       "      <td>23.200000</td>\n",
       "      <td>33.000000</td>\n",
       "      <td>1.040000</td>\n",
       "      <td>0.000000</td>\n",
       "      <td>0.000000</td>\n",
       "      <td>0.000000</td>\n",
       "      <td>0.000000</td>\n",
       "    </tr>\n",
       "    <tr>\n",
       "      <th>25%</th>\n",
       "      <td>74.000000</td>\n",
       "      <td>408.000000</td>\n",
       "      <td>0.000000</td>\n",
       "      <td>143.700000</td>\n",
       "      <td>87.000000</td>\n",
       "      <td>24.430000</td>\n",
       "      <td>166.600000</td>\n",
       "      <td>87.000000</td>\n",
       "      <td>14.160000</td>\n",
       "      <td>167.000000</td>\n",
       "      <td>87.000000</td>\n",
       "      <td>7.520000</td>\n",
       "      <td>8.500000</td>\n",
       "      <td>3.000000</td>\n",
       "      <td>2.300000</td>\n",
       "      <td>1.000000</td>\n",
       "    </tr>\n",
       "    <tr>\n",
       "      <th>50%</th>\n",
       "      <td>101.000000</td>\n",
       "      <td>415.000000</td>\n",
       "      <td>0.000000</td>\n",
       "      <td>179.400000</td>\n",
       "      <td>101.000000</td>\n",
       "      <td>30.500000</td>\n",
       "      <td>201.400000</td>\n",
       "      <td>100.000000</td>\n",
       "      <td>17.120000</td>\n",
       "      <td>201.200000</td>\n",
       "      <td>100.000000</td>\n",
       "      <td>9.050000</td>\n",
       "      <td>10.300000</td>\n",
       "      <td>4.000000</td>\n",
       "      <td>2.780000</td>\n",
       "      <td>1.000000</td>\n",
       "    </tr>\n",
       "    <tr>\n",
       "      <th>75%</th>\n",
       "      <td>127.000000</td>\n",
       "      <td>510.000000</td>\n",
       "      <td>20.000000</td>\n",
       "      <td>216.400000</td>\n",
       "      <td>114.000000</td>\n",
       "      <td>36.790000</td>\n",
       "      <td>235.300000</td>\n",
       "      <td>114.000000</td>\n",
       "      <td>20.000000</td>\n",
       "      <td>235.300000</td>\n",
       "      <td>113.000000</td>\n",
       "      <td>10.590000</td>\n",
       "      <td>12.100000</td>\n",
       "      <td>6.000000</td>\n",
       "      <td>3.270000</td>\n",
       "      <td>2.000000</td>\n",
       "    </tr>\n",
       "    <tr>\n",
       "      <th>max</th>\n",
       "      <td>243.000000</td>\n",
       "      <td>510.000000</td>\n",
       "      <td>51.000000</td>\n",
       "      <td>350.800000</td>\n",
       "      <td>165.000000</td>\n",
       "      <td>59.640000</td>\n",
       "      <td>363.700000</td>\n",
       "      <td>170.000000</td>\n",
       "      <td>30.910000</td>\n",
       "      <td>395.000000</td>\n",
       "      <td>175.000000</td>\n",
       "      <td>17.770000</td>\n",
       "      <td>20.000000</td>\n",
       "      <td>20.000000</td>\n",
       "      <td>5.400000</td>\n",
       "      <td>9.000000</td>\n",
       "    </tr>\n",
       "  </tbody>\n",
       "</table>\n",
       "</div>"
      ],
      "text/plain": [
       "       account length    area code  number vmail messages  total day minutes  \\\n",
       "count     3333.000000  3333.000000            3333.000000        3333.000000   \n",
       "mean       101.064806   437.182418               8.099010         179.775098   \n",
       "std         39.822106    42.371290              13.688365          54.467389   \n",
       "min          1.000000   408.000000               0.000000           0.000000   \n",
       "25%         74.000000   408.000000               0.000000         143.700000   \n",
       "50%        101.000000   415.000000               0.000000         179.400000   \n",
       "75%        127.000000   510.000000              20.000000         216.400000   \n",
       "max        243.000000   510.000000              51.000000         350.800000   \n",
       "\n",
       "       total day calls  total day charge  total eve minutes  total eve calls  \\\n",
       "count      3333.000000       3333.000000        3333.000000      3333.000000   \n",
       "mean        100.435644         30.562307         200.980348       100.114311   \n",
       "std          20.069084          9.259435          50.713844        19.922625   \n",
       "min           0.000000          0.000000           0.000000         0.000000   \n",
       "25%          87.000000         24.430000         166.600000        87.000000   \n",
       "50%         101.000000         30.500000         201.400000       100.000000   \n",
       "75%         114.000000         36.790000         235.300000       114.000000   \n",
       "max         165.000000         59.640000         363.700000       170.000000   \n",
       "\n",
       "       total eve charge  total night minutes  total night calls  \\\n",
       "count       3333.000000          3333.000000        3333.000000   \n",
       "mean          17.083540           200.872037         100.107711   \n",
       "std            4.310668            50.573847          19.568609   \n",
       "min            0.000000            23.200000          33.000000   \n",
       "25%           14.160000           167.000000          87.000000   \n",
       "50%           17.120000           201.200000         100.000000   \n",
       "75%           20.000000           235.300000         113.000000   \n",
       "max           30.910000           395.000000         175.000000   \n",
       "\n",
       "       total night charge  total intl minutes  total intl calls  \\\n",
       "count         3333.000000         3333.000000       3333.000000   \n",
       "mean             9.039325           10.237294          4.479448   \n",
       "std              2.275873            2.791840          2.461214   \n",
       "min              1.040000            0.000000          0.000000   \n",
       "25%              7.520000            8.500000          3.000000   \n",
       "50%              9.050000           10.300000          4.000000   \n",
       "75%             10.590000           12.100000          6.000000   \n",
       "max             17.770000           20.000000         20.000000   \n",
       "\n",
       "       total intl charge  customer service calls  \n",
       "count        3333.000000             3333.000000  \n",
       "mean            2.764581                1.562856  \n",
       "std             0.753773                1.315491  \n",
       "min             0.000000                0.000000  \n",
       "25%             2.300000                1.000000  \n",
       "50%             2.780000                1.000000  \n",
       "75%             3.270000                2.000000  \n",
       "max             5.400000                9.000000  "
      ]
     },
     "execution_count": 6,
     "metadata": {},
     "output_type": "execute_result"
    }
   ],
   "source": [
    "#describing our data\n",
    "data.describe()"
   ]
  },
  {
   "cell_type": "code",
   "execution_count": 7,
   "metadata": {},
   "outputs": [],
   "source": [
    "#a function to describe our columns\n",
    "def describe_columns(self):\n",
    "    print(self.columns)\n",
    "    print(self.dtypes)\n",
    "    print(self.shape)\n",
    "    print(self.info())\n",
    "\n",
    "    print(self.describe())\n",
    "    \n",
    "    \n",
    "    "
   ]
  },
  {
   "cell_type": "code",
   "execution_count": 8,
   "metadata": {},
   "outputs": [
    {
     "name": "stdout",
     "output_type": "stream",
     "text": [
      "Index(['state', 'account length', 'area code', 'phone number',\n",
      "       'international plan', 'voice mail plan', 'number vmail messages',\n",
      "       'total day minutes', 'total day calls', 'total day charge',\n",
      "       'total eve minutes', 'total eve calls', 'total eve charge',\n",
      "       'total night minutes', 'total night calls', 'total night charge',\n",
      "       'total intl minutes', 'total intl calls', 'total intl charge',\n",
      "       'customer service calls', 'churn'],\n",
      "      dtype='object')\n",
      "state                      object\n",
      "account length              int64\n",
      "area code                   int64\n",
      "phone number               object\n",
      "international plan         object\n",
      "voice mail plan            object\n",
      "number vmail messages       int64\n",
      "total day minutes         float64\n",
      "total day calls             int64\n",
      "total day charge          float64\n",
      "total eve minutes         float64\n",
      "total eve calls             int64\n",
      "total eve charge          float64\n",
      "total night minutes       float64\n",
      "total night calls           int64\n",
      "total night charge        float64\n",
      "total intl minutes        float64\n",
      "total intl calls            int64\n",
      "total intl charge         float64\n",
      "customer service calls      int64\n",
      "churn                        bool\n",
      "dtype: object\n",
      "(3333, 21)\n",
      "<class 'pandas.core.frame.DataFrame'>\n",
      "RangeIndex: 3333 entries, 0 to 3332\n",
      "Data columns (total 21 columns):\n",
      " #   Column                  Non-Null Count  Dtype  \n",
      "---  ------                  --------------  -----  \n",
      " 0   state                   3333 non-null   object \n",
      " 1   account length          3333 non-null   int64  \n",
      " 2   area code               3333 non-null   int64  \n",
      " 3   phone number            3333 non-null   object \n",
      " 4   international plan      3333 non-null   object \n",
      " 5   voice mail plan         3333 non-null   object \n",
      " 6   number vmail messages   3333 non-null   int64  \n",
      " 7   total day minutes       3333 non-null   float64\n",
      " 8   total day calls         3333 non-null   int64  \n",
      " 9   total day charge        3333 non-null   float64\n",
      " 10  total eve minutes       3333 non-null   float64\n",
      " 11  total eve calls         3333 non-null   int64  \n",
      " 12  total eve charge        3333 non-null   float64\n",
      " 13  total night minutes     3333 non-null   float64\n",
      " 14  total night calls       3333 non-null   int64  \n",
      " 15  total night charge      3333 non-null   float64\n",
      " 16  total intl minutes      3333 non-null   float64\n",
      " 17  total intl calls        3333 non-null   int64  \n",
      " 18  total intl charge       3333 non-null   float64\n",
      " 19  customer service calls  3333 non-null   int64  \n",
      " 20  churn                   3333 non-null   bool   \n",
      "dtypes: bool(1), float64(8), int64(8), object(4)\n",
      "memory usage: 524.2+ KB\n",
      "None\n",
      "       account length    area code  number vmail messages  total day minutes  \\\n",
      "count     3333.000000  3333.000000            3333.000000        3333.000000   \n",
      "mean       101.064806   437.182418               8.099010         179.775098   \n",
      "std         39.822106    42.371290              13.688365          54.467389   \n",
      "min          1.000000   408.000000               0.000000           0.000000   \n",
      "25%         74.000000   408.000000               0.000000         143.700000   \n",
      "50%        101.000000   415.000000               0.000000         179.400000   \n",
      "75%        127.000000   510.000000              20.000000         216.400000   \n",
      "max        243.000000   510.000000              51.000000         350.800000   \n",
      "\n",
      "       total day calls  total day charge  total eve minutes  total eve calls  \\\n",
      "count      3333.000000       3333.000000        3333.000000      3333.000000   \n",
      "mean        100.435644         30.562307         200.980348       100.114311   \n",
      "std          20.069084          9.259435          50.713844        19.922625   \n",
      "min           0.000000          0.000000           0.000000         0.000000   \n",
      "25%          87.000000         24.430000         166.600000        87.000000   \n",
      "50%         101.000000         30.500000         201.400000       100.000000   \n",
      "75%         114.000000         36.790000         235.300000       114.000000   \n",
      "max         165.000000         59.640000         363.700000       170.000000   \n",
      "\n",
      "       total eve charge  total night minutes  total night calls  \\\n",
      "count       3333.000000          3333.000000        3333.000000   \n",
      "mean          17.083540           200.872037         100.107711   \n",
      "std            4.310668            50.573847          19.568609   \n",
      "min            0.000000            23.200000          33.000000   \n",
      "25%           14.160000           167.000000          87.000000   \n",
      "50%           17.120000           201.200000         100.000000   \n",
      "75%           20.000000           235.300000         113.000000   \n",
      "max           30.910000           395.000000         175.000000   \n",
      "\n",
      "       total night charge  total intl minutes  total intl calls  \\\n",
      "count         3333.000000         3333.000000       3333.000000   \n",
      "mean             9.039325           10.237294          4.479448   \n",
      "std              2.275873            2.791840          2.461214   \n",
      "min              1.040000            0.000000          0.000000   \n",
      "25%              7.520000            8.500000          3.000000   \n",
      "50%              9.050000           10.300000          4.000000   \n",
      "75%             10.590000           12.100000          6.000000   \n",
      "max             17.770000           20.000000         20.000000   \n",
      "\n",
      "       total intl charge  customer service calls  \n",
      "count        3333.000000             3333.000000  \n",
      "mean            2.764581                1.562856  \n",
      "std             0.753773                1.315491  \n",
      "min             0.000000                0.000000  \n",
      "25%             2.300000                1.000000  \n",
      "50%             2.780000                1.000000  \n",
      "75%             3.270000                2.000000  \n",
      "max             5.400000                9.000000  \n"
     ]
    }
   ],
   "source": [
    "describe_columns(data)"
   ]
  },
  {
   "attachments": {},
   "cell_type": "markdown",
   "metadata": {},
   "source": [
    "### DATA PREPARATION"
   ]
  },
  {
   "attachments": {},
   "cell_type": "markdown",
   "metadata": {},
   "source": [
    "#### Explanatory Data Analysia"
   ]
  },
  {
   "cell_type": "code",
   "execution_count": 9,
   "metadata": {},
   "outputs": [
    {
     "name": "stdout",
     "output_type": "stream",
     "text": [
      "Number of missing values :0\n",
      "Number of duplicated:0\n"
     ]
    }
   ],
   "source": [
    "#to find the count of missing and duplicated values\n",
    "def data_describe(data):\n",
    "    missing_values = data.isna().sum().sum()\n",
    "    duplicated_values = data.duplicated().sum()\n",
    "    print(f\"Number of missing values :{missing_values}\\nNumber of duplicated:{duplicated_values}\")\n",
    "data_describe(data)  "
   ]
  },
  {
   "attachments": {},
   "cell_type": "markdown",
   "metadata": {},
   "source": [
    "* There are no missing values and duplicated values in the dataset.The data set is now clean and ready for analysis"
   ]
  },
  {
   "cell_type": "code",
   "execution_count": 10,
   "metadata": {},
   "outputs": [
    {
     "data": {
      "text/plain": [
       "state                       51\n",
       "account length             212\n",
       "area code                    3\n",
       "phone number              3333\n",
       "international plan           2\n",
       "voice mail plan              2\n",
       "number vmail messages       46\n",
       "total day minutes         1667\n",
       "total day calls            119\n",
       "total day charge          1667\n",
       "total eve minutes         1611\n",
       "total eve calls            123\n",
       "total eve charge          1440\n",
       "total night minutes       1591\n",
       "total night calls          120\n",
       "total night charge         933\n",
       "total intl minutes         162\n",
       "total intl calls            21\n",
       "total intl charge          162\n",
       "customer service calls      10\n",
       "churn                        2\n",
       "dtype: int64"
      ]
     },
     "execution_count": 10,
     "metadata": {},
     "output_type": "execute_result"
    }
   ],
   "source": [
    "# inspecting the values of the coumn in the dataset\n",
    "data.nunique()"
   ]
  },
  {
   "attachments": {},
   "cell_type": "markdown",
   "metadata": {},
   "source": [
    "* It is interesting to see that there are only 3 area_codes. It might be worth investigating whether a particular area code has higher churn than another or if it would be safe to simply drop area code. Also, area code would actually be more of a categorical feature rather than an int feature so we will change this data type.\n",
    "* Since churn  (target) is a binary feature, we will replace churn with a label (0 or 1).\n",
    "\n",
    "* Phone number is customer number feature for the client and has no meningful essence o we can drop the column\n",
    "* We can see that columns international_plan and voice_mail_plan are binary features with yes/no values - we might want to change these types later to booleans or 1/0's.\n",
    "* All minutes, calls and charges columns have reasonable values and nothing stands out as unusual at this stage.\n",
    "* All states look normal, as expected.\n",
    "\n",
    "\n"
   ]
  },
  {
   "cell_type": "code",
   "execution_count": 11,
   "metadata": {},
   "outputs": [],
   "source": [
    "#ropping phone number and state columns\n",
    "data.drop([\"phone number\",\"state\"],axis=1,inplace=True)"
   ]
  },
  {
   "attachments": {},
   "cell_type": "markdown",
   "metadata": {},
   "source": [
    "####  Exploring the Target(Churn)"
   ]
  },
  {
   "cell_type": "code",
   "execution_count": 12,
   "metadata": {},
   "outputs": [
    {
     "data": {
      "text/plain": [
       "False    2850\n",
       "True      483\n",
       "Name: churn, dtype: int64"
      ]
     },
     "execution_count": 12,
     "metadata": {},
     "output_type": "execute_result"
    }
   ],
   "source": [
    "# Finding the values pf churn column\n",
    "churn_explore = data[\"churn\"].value_counts()\n",
    "churn_explore"
   ]
  },
  {
   "attachments": {},
   "cell_type": "markdown",
   "metadata": {},
   "source": [
    "* True will mean the customer was churned while False will mean the customer was not churned"
   ]
  },
  {
   "cell_type": "code",
   "execution_count": 13,
   "metadata": {},
   "outputs": [],
   "source": [
    "# lets replace True with 1 and False 0\n",
    "data.churn.replace((True,False),(1,0),inplace=True)"
   ]
  },
  {
   "cell_type": "code",
   "execution_count": 14,
   "metadata": {},
   "outputs": [],
   "source": [
    "#converting the international plan and voicemail plan to Binary\n",
    "data['international plan'] = data['international plan'].map({'yes': 1, 'no': 0})\n",
    "data['voice mail plan'] = data['voice mail plan'].map({'yes': 1, 'no': 0})"
   ]
  },
  {
   "cell_type": "code",
   "execution_count": 15,
   "metadata": {},
   "outputs": [
    {
     "data": {
      "image/png": "[encoded data removed]",
      "text/plain": [
       "<Figure size 432x288 with 1 Axes>"
      ]
     },
     "metadata": {
      "needs_background": "light"
     },
     "output_type": "display_data"
    }
   ],
   "source": [
    "\n",
    "# Create a bar plot of churned vs. non-churned customers\n",
    "sns.countplot(x=\"churn\", data=data)\n",
    "plt.xlabel(\"Churn\")\n",
    "plt.ylabel(\"Count\")\n",
    "plt.xticks([0, 1], [\"No Churn\", \"Churn\"])\n",
    "plt.title(\"Distribution of Churned and Non-Churned Customers\")\n",
    "plt.show()"
   ]
  },
  {
   "attachments": {},
   "cell_type": "markdown",
   "metadata": {},
   "source": [
    "exploring other features with churn\n",
    "\n",
    "1. Area code"
   ]
  },
  {
   "cell_type": "code",
   "execution_count": 16,
   "metadata": {},
   "outputs": [],
   "source": [
    " # grouping area code and churn\n",
    "grouped_data=data.groupby([\"area code\",\"churn\"]).mean()\n"
   ]
  },
  {
   "cell_type": "code",
   "execution_count": 17,
   "metadata": {},
   "outputs": [
    {
     "data": {
      "image/png": "[encoded data removed]",
      "text/plain": [
       "<Figure size 432x288 with 1 Axes>"
      ]
     },
     "metadata": {
      "needs_background": "light"
     },
     "output_type": "display_data"
    }
   ],
   "source": [
    "# Create a bar plot of churned vs. non-churned customers, grouped by area code\n",
    "sns.countplot(x=\"area code\", hue=\"churn\", data=data)\n",
    "\n",
    "# Add labels and titles to the plot\n",
    "plt.xlabel(\"Area Code\")\n",
    "plt.ylabel(\"Count\")\n",
    "plt.title(\"Distribution of Churned and Non-Churned Customers by Area Code\")\n",
    "\n",
    "# Show the plot\n",
    "plt.show()"
   ]
  },
  {
   "attachments": {},
   "cell_type": "markdown",
   "metadata": {},
   "source": [
    "* the plot suggests that there may be a relationship between customer location and churn rate, with area code 415 having a higher churn rate compared to the other area codes.After further investigation, it is clear that the 415 area code has more customers than the 408 or 510 area codes. However, all three area codes have around the same churn rate. Since there is no clear pattern, I believe it is safe to delete the area code column from the dataset as well."
   ]
  },
  {
   "attachments": {},
   "cell_type": "markdown",
   "metadata": {},
   "source": [
    "2.Customer services"
   ]
  },
  {
   "cell_type": "code",
   "execution_count": 18,
   "metadata": {},
   "outputs": [
    {
     "data": {
      "text/plain": [
       "customer service calls\n",
       "0    0.131994\n",
       "1    0.103302\n",
       "2    0.114625\n",
       "3    0.102564\n",
       "4    0.457831\n",
       "5    0.606061\n",
       "6    0.636364\n",
       "7    0.555556\n",
       "8    0.500000\n",
       "9    1.000000\n",
       "Name: churn, dtype: float64"
      ]
     },
     "execution_count": 18,
     "metadata": {},
     "output_type": "execute_result"
    }
   ],
   "source": [
    "cust_serv_calls = (data.groupby(['customer service calls'])['churn'].mean())\n",
    "cust_serv_calls"
   ]
  },
  {
   "cell_type": "code",
   "execution_count": 19,
   "metadata": {},
   "outputs": [
    {
     "data": {
      "image/png": "[encoded data removed]",
      "text/plain": [
       "<Figure size 936x504 with 1 Axes>"
      ]
     },
     "metadata": {
      "needs_background": "light"
     },
     "output_type": "display_data"
    }
   ],
   "source": [
    "fig, ax = plt.subplots(figsize=(13,7))\n",
    "sns.barplot(data=data, x=data['customer service calls'], y='churn',palette=\"rocket\", ax = ax)\n",
    "plt.title('Churn Rate in Relation to Customer Service Calls', fontsize=25)\n",
    "plt.ylabel('Churn Rate', fontsize=20)\n",
    "plt.xlabel('Number of Calls', fontsize=20)\n",
    "plt.tight_layout();"
   ]
  },
  {
   "attachments": {},
   "cell_type": "markdown",
   "metadata": {},
   "source": [
    "* it appears that there is a strong relationship between the number of times a customer calls customer service and their likelihood to churn. Specifically, the chart shows that when a customer has to call customer service four times, the likelihood of churn significantly increases\n",
    "\n",
    "* By addressing customer issues in a timely and effective manner, businesses may be able to reduce customer churn and improve overall customer satisfaction."
   ]
  },
  {
   "attachments": {},
   "cell_type": "markdown",
   "metadata": {},
   "source": [
    "3. international plan"
   ]
  },
  {
   "cell_type": "code",
   "execution_count": 20,
   "metadata": {},
   "outputs": [
    {
     "data": {
      "image/png": "[encoded data removed]",
      "text/plain": [
       "<Figure size 576x504 with 1 Axes>"
      ]
     },
     "metadata": {
      "needs_background": "light"
     },
     "output_type": "display_data"
    }
   ],
   "source": [
    "fig, ax = plt.subplots(figsize=(8,7))\n",
    "sns.barplot(data=data, x=data['international plan'], y='churn', palette=\"rocket\", ax = ax)\n",
    "plt.title('Percentage Churn of International Plan Holders', fontsize=25)\n",
    "plt.xlabel('International Plan Yes/No', fontsize=20)\n",
    "plt.ylabel('Churn Rate', fontsize=20)\n",
    "ax.set_xticklabels(['No International Plan', 'Has International Plan'], fontsize=15)\n",
    "plt.tight_layout;"
   ]
  },
  {
   "attachments": {},
   "cell_type": "markdown",
   "metadata": {},
   "source": [
    "* Obervation:From the graph above majority of the customers holding international plan are churning because the services of SyriaTel are not fully satisfying them.\n",
    "we therefore recommend SyriaTel to conduct a further research on the causes of the high customer churn to holders of international plan so as to reduce the high rate of churning."
   ]
  },
  {
   "attachments": {},
   "cell_type": "markdown",
   "metadata": {},
   "source": [
    "### To check for outliers"
   ]
  },
  {
   "cell_type": "code",
   "execution_count": 21,
   "metadata": {},
   "outputs": [
    {
     "data": {
      "image/png": "[encoded data removed]",
      "text/plain": [
       "<Figure size 864x432 with 6 Axes>"
      ]
     },
     "metadata": {
      "needs_background": "light"
     },
     "output_type": "display_data"
    }
   ],
   "source": [
    "\n",
    "# Select the columns that contain numerical data\n",
    "num_cols = [\"total night calls\", \"total day minutes\", \"total night charge\",\"total intl minutes\",\"total intl calls\",\"total day calls\"]\n",
    "# Create a boxplot for each numerical column\n",
    "fig, axes = plt.subplots(nrows=1, ncols=len(num_cols), figsize=(12, 6))\n",
    "for i, col in enumerate(num_cols):\n",
    "    axes[i].boxplot(data[col], vert=False)\n",
    "    axes[i].set_title(col)\n",
    "\n",
    "plt.show()"
   ]
  },
  {
   "attachments": {},
   "cell_type": "markdown",
   "metadata": {},
   "source": [
    "*  looking at outliers this indicate that some customers have significantly higher charges compared to the majority of customers. This could be due to factors such as premium services, overage charges, or other factors that increase the customer's bill."
   ]
  },
  {
   "cell_type": "code",
   "execution_count": 22,
   "metadata": {},
   "outputs": [
    {
     "data": {
      "text/plain": [
       "voice mail plan          -0.102148\n",
       "number vmail messages    -0.089728\n",
       "total intl calls         -0.052844\n",
       "total night calls         0.006141\n",
       "area code                 0.006174\n",
       "total eve calls           0.009233\n",
       "account length            0.016541\n",
       "total day calls           0.018459\n",
       "total night minutes       0.035493\n",
       "total night charge        0.035496\n",
       "total intl minutes        0.068239\n",
       "total intl charge         0.068259\n",
       "total eve charge          0.092786\n",
       "total eve minutes         0.092796\n",
       "total day charge          0.205151\n",
       "total day minutes         0.205151\n",
       "customer service calls    0.208750\n",
       "international plan        0.259852\n",
       "churn                     1.000000\n",
       "Name: churn, dtype: float64"
      ]
     },
     "execution_count": 22,
     "metadata": {},
     "output_type": "execute_result"
    }
   ],
   "source": [
    "#finding the correlation between churn and other features\n",
    "data.corr().churn.sort_values(ascending=True)"
   ]
  },
  {
   "cell_type": "code",
   "execution_count": 23,
   "metadata": {},
   "outputs": [
    {
     "data": {
      "image/png": "[encoded data removed]",
      "text/plain": [
       "<Figure size 432x288 with 2 Axes>"
      ]
     },
     "metadata": {
      "needs_background": "light"
     },
     "output_type": "display_data"
    }
   ],
   "source": [
    "# a plot showing the correlation matrix for numerical columns\n",
    "corr_matrix = data[num_cols].corr()\n",
    "sns.heatmap(corr_matrix, annot=True, cmap=\"coolwarm\")\n",
    "\n",
    "plt.show()"
   ]
  },
  {
   "cell_type": "code",
   "execution_count": 24,
   "metadata": {},
   "outputs": [
    {
     "data": {
      "text/html": [
       "<style  type=\"text/css\" >\n",
       "#T_cf7bbdf5_f7c3_11ed_955a_e470b809ed67row0_col0,#T_cf7bbdf5_f7c3_11ed_955a_e470b809ed67row1_col1,#T_cf7bbdf5_f7c3_11ed_955a_e470b809ed67row2_col2,#T_cf7bbdf5_f7c3_11ed_955a_e470b809ed67row3_col3,#T_cf7bbdf5_f7c3_11ed_955a_e470b809ed67row4_col4,#T_cf7bbdf5_f7c3_11ed_955a_e470b809ed67row5_col5,#T_cf7bbdf5_f7c3_11ed_955a_e470b809ed67row5_col7,#T_cf7bbdf5_f7c3_11ed_955a_e470b809ed67row6_col6,#T_cf7bbdf5_f7c3_11ed_955a_e470b809ed67row7_col5,#T_cf7bbdf5_f7c3_11ed_955a_e470b809ed67row7_col7,#T_cf7bbdf5_f7c3_11ed_955a_e470b809ed67row8_col8,#T_cf7bbdf5_f7c3_11ed_955a_e470b809ed67row8_col10,#T_cf7bbdf5_f7c3_11ed_955a_e470b809ed67row9_col9,#T_cf7bbdf5_f7c3_11ed_955a_e470b809ed67row10_col8,#T_cf7bbdf5_f7c3_11ed_955a_e470b809ed67row10_col10,#T_cf7bbdf5_f7c3_11ed_955a_e470b809ed67row11_col11,#T_cf7bbdf5_f7c3_11ed_955a_e470b809ed67row11_col13,#T_cf7bbdf5_f7c3_11ed_955a_e470b809ed67row12_col12,#T_cf7bbdf5_f7c3_11ed_955a_e470b809ed67row13_col11,#T_cf7bbdf5_f7c3_11ed_955a_e470b809ed67row13_col13,#T_cf7bbdf5_f7c3_11ed_955a_e470b809ed67row14_col14,#T_cf7bbdf5_f7c3_11ed_955a_e470b809ed67row14_col16,#T_cf7bbdf5_f7c3_11ed_955a_e470b809ed67row15_col15,#T_cf7bbdf5_f7c3_11ed_955a_e470b809ed67row16_col14,#T_cf7bbdf5_f7c3_11ed_955a_e470b809ed67row16_col16,#T_cf7bbdf5_f7c3_11ed_955a_e470b809ed67row17_col17,#T_cf7bbdf5_f7c3_11ed_955a_e470b809ed67row18_col18{\n",
       "            background-color:  #b40426;\n",
       "            color:  #f1f1f1;\n",
       "        }#T_cf7bbdf5_f7c3_11ed_955a_e470b809ed67row0_col1,#T_cf7bbdf5_f7c3_11ed_955a_e470b809ed67row1_col6,#T_cf7bbdf5_f7c3_11ed_955a_e470b809ed67row3_col5,#T_cf7bbdf5_f7c3_11ed_955a_e470b809ed67row3_col6,#T_cf7bbdf5_f7c3_11ed_955a_e470b809ed67row3_col7,#T_cf7bbdf5_f7c3_11ed_955a_e470b809ed67row4_col0,#T_cf7bbdf5_f7c3_11ed_955a_e470b809ed67row4_col6,#T_cf7bbdf5_f7c3_11ed_955a_e470b809ed67row4_col17,#T_cf7bbdf5_f7c3_11ed_955a_e470b809ed67row4_col18,#T_cf7bbdf5_f7c3_11ed_955a_e470b809ed67row5_col14,#T_cf7bbdf5_f7c3_11ed_955a_e470b809ed67row5_col16,#T_cf7bbdf5_f7c3_11ed_955a_e470b809ed67row5_col17,#T_cf7bbdf5_f7c3_11ed_955a_e470b809ed67row7_col14,#T_cf7bbdf5_f7c3_11ed_955a_e470b809ed67row7_col16,#T_cf7bbdf5_f7c3_11ed_955a_e470b809ed67row7_col17,#T_cf7bbdf5_f7c3_11ed_955a_e470b809ed67row8_col17,#T_cf7bbdf5_f7c3_11ed_955a_e470b809ed67row9_col8,#T_cf7bbdf5_f7c3_11ed_955a_e470b809ed67row9_col10,#T_cf7bbdf5_f7c3_11ed_955a_e470b809ed67row10_col17,#T_cf7bbdf5_f7c3_11ed_955a_e470b809ed67row11_col8,#T_cf7bbdf5_f7c3_11ed_955a_e470b809ed67row11_col9,#T_cf7bbdf5_f7c3_11ed_955a_e470b809ed67row11_col10,#T_cf7bbdf5_f7c3_11ed_955a_e470b809ed67row12_col17,#T_cf7bbdf5_f7c3_11ed_955a_e470b809ed67row13_col8,#T_cf7bbdf5_f7c3_11ed_955a_e470b809ed67row13_col9,#T_cf7bbdf5_f7c3_11ed_955a_e470b809ed67row13_col10,#T_cf7bbdf5_f7c3_11ed_955a_e470b809ed67row14_col8,#T_cf7bbdf5_f7c3_11ed_955a_e470b809ed67row14_col10,#T_cf7bbdf5_f7c3_11ed_955a_e470b809ed67row16_col8,#T_cf7bbdf5_f7c3_11ed_955a_e470b809ed67row16_col10,#T_cf7bbdf5_f7c3_11ed_955a_e470b809ed67row17_col0,#T_cf7bbdf5_f7c3_11ed_955a_e470b809ed67row17_col8,#T_cf7bbdf5_f7c3_11ed_955a_e470b809ed67row17_col10,#T_cf7bbdf5_f7c3_11ed_955a_e470b809ed67row17_col14,#T_cf7bbdf5_f7c3_11ed_955a_e470b809ed67row17_col16{\n",
       "            background-color:  #3d50c3;\n",
       "            color:  #f1f1f1;\n",
       "        }#T_cf7bbdf5_f7c3_11ed_955a_e470b809ed67row0_col2,#T_cf7bbdf5_f7c3_11ed_955a_e470b809ed67row1_col17,#T_cf7bbdf5_f7c3_11ed_955a_e470b809ed67row6_col0,#T_cf7bbdf5_f7c3_11ed_955a_e470b809ed67row6_col15,#T_cf7bbdf5_f7c3_11ed_955a_e470b809ed67row8_col15,#T_cf7bbdf5_f7c3_11ed_955a_e470b809ed67row10_col15{\n",
       "            background-color:  #4a63d3;\n",
       "            color:  #f1f1f1;\n",
       "        }#T_cf7bbdf5_f7c3_11ed_955a_e470b809ed67row0_col3,#T_cf7bbdf5_f7c3_11ed_955a_e470b809ed67row15_col4{\n",
       "            background-color:  #5875e1;\n",
       "            color:  #000000;\n",
       "        }#T_cf7bbdf5_f7c3_11ed_955a_e470b809ed67row0_col4,#T_cf7bbdf5_f7c3_11ed_955a_e470b809ed67row1_col2,#T_cf7bbdf5_f7c3_11ed_955a_e470b809ed67row5_col2,#T_cf7bbdf5_f7c3_11ed_955a_e470b809ed67row7_col2,#T_cf7bbdf5_f7c3_11ed_955a_e470b809ed67row9_col4,#T_cf7bbdf5_f7c3_11ed_955a_e470b809ed67row17_col3{\n",
       "            background-color:  #516ddb;\n",
       "            color:  #000000;\n",
       "        }#T_cf7bbdf5_f7c3_11ed_955a_e470b809ed67row0_col5,#T_cf7bbdf5_f7c3_11ed_955a_e470b809ed67row0_col7,#T_cf7bbdf5_f7c3_11ed_955a_e470b809ed67row0_col11,#T_cf7bbdf5_f7c3_11ed_955a_e470b809ed67row0_col13,#T_cf7bbdf5_f7c3_11ed_955a_e470b809ed67row2_col9,#T_cf7bbdf5_f7c3_11ed_955a_e470b809ed67row3_col0,#T_cf7bbdf5_f7c3_11ed_955a_e470b809ed67row3_col14,#T_cf7bbdf5_f7c3_11ed_955a_e470b809ed67row3_col16,#T_cf7bbdf5_f7c3_11ed_955a_e470b809ed67row5_col0,#T_cf7bbdf5_f7c3_11ed_955a_e470b809ed67row6_col9,#T_cf7bbdf5_f7c3_11ed_955a_e470b809ed67row7_col0,#T_cf7bbdf5_f7c3_11ed_955a_e470b809ed67row8_col11,#T_cf7bbdf5_f7c3_11ed_955a_e470b809ed67row8_col13,#T_cf7bbdf5_f7c3_11ed_955a_e470b809ed67row10_col11,#T_cf7bbdf5_f7c3_11ed_955a_e470b809ed67row10_col13,#T_cf7bbdf5_f7c3_11ed_955a_e470b809ed67row11_col1,#T_cf7bbdf5_f7c3_11ed_955a_e470b809ed67row11_col5,#T_cf7bbdf5_f7c3_11ed_955a_e470b809ed67row11_col7,#T_cf7bbdf5_f7c3_11ed_955a_e470b809ed67row12_col9,#T_cf7bbdf5_f7c3_11ed_955a_e470b809ed67row13_col1,#T_cf7bbdf5_f7c3_11ed_955a_e470b809ed67row13_col5,#T_cf7bbdf5_f7c3_11ed_955a_e470b809ed67row13_col7,#T_cf7bbdf5_f7c3_11ed_955a_e470b809ed67row15_col11,#T_cf7bbdf5_f7c3_11ed_955a_e470b809ed67row15_col12,#T_cf7bbdf5_f7c3_11ed_955a_e470b809ed67row15_col13,#T_cf7bbdf5_f7c3_11ed_955a_e470b809ed67row17_col11,#T_cf7bbdf5_f7c3_11ed_955a_e470b809ed67row17_col13{\n",
       "            background-color:  #3f53c6;\n",
       "            color:  #f1f1f1;\n",
       "        }#T_cf7bbdf5_f7c3_11ed_955a_e470b809ed67row0_col6,#T_cf7bbdf5_f7c3_11ed_955a_e470b809ed67row2_col5,#T_cf7bbdf5_f7c3_11ed_955a_e470b809ed67row2_col7{\n",
       "            background-color:  #4c66d6;\n",
       "            color:  #000000;\n",
       "        }#T_cf7bbdf5_f7c3_11ed_955a_e470b809ed67row0_col8,#T_cf7bbdf5_f7c3_11ed_955a_e470b809ed67row0_col10,#T_cf7bbdf5_f7c3_11ed_955a_e470b809ed67row4_col5,#T_cf7bbdf5_f7c3_11ed_955a_e470b809ed67row4_col7,#T_cf7bbdf5_f7c3_11ed_955a_e470b809ed67row5_col1,#T_cf7bbdf5_f7c3_11ed_955a_e470b809ed67row6_col1,#T_cf7bbdf5_f7c3_11ed_955a_e470b809ed67row7_col1,#T_cf7bbdf5_f7c3_11ed_955a_e470b809ed67row9_col1,#T_cf7bbdf5_f7c3_11ed_955a_e470b809ed67row11_col17,#T_cf7bbdf5_f7c3_11ed_955a_e470b809ed67row13_col17,#T_cf7bbdf5_f7c3_11ed_955a_e470b809ed67row14_col11,#T_cf7bbdf5_f7c3_11ed_955a_e470b809ed67row14_col13,#T_cf7bbdf5_f7c3_11ed_955a_e470b809ed67row14_col17,#T_cf7bbdf5_f7c3_11ed_955a_e470b809ed67row16_col11,#T_cf7bbdf5_f7c3_11ed_955a_e470b809ed67row16_col13,#T_cf7bbdf5_f7c3_11ed_955a_e470b809ed67row16_col17,#T_cf7bbdf5_f7c3_11ed_955a_e470b809ed67row17_col9{\n",
       "            background-color:  #3e51c5;\n",
       "            color:  #f1f1f1;\n",
       "        }#T_cf7bbdf5_f7c3_11ed_955a_e470b809ed67row0_col9,#T_cf7bbdf5_f7c3_11ed_955a_e470b809ed67row0_col16,#T_cf7bbdf5_f7c3_11ed_955a_e470b809ed67row5_col6,#T_cf7bbdf5_f7c3_11ed_955a_e470b809ed67row5_col8,#T_cf7bbdf5_f7c3_11ed_955a_e470b809ed67row5_col10,#T_cf7bbdf5_f7c3_11ed_955a_e470b809ed67row7_col6,#T_cf7bbdf5_f7c3_11ed_955a_e470b809ed67row7_col8,#T_cf7bbdf5_f7c3_11ed_955a_e470b809ed67row7_col10,#T_cf7bbdf5_f7c3_11ed_955a_e470b809ed67row9_col5,#T_cf7bbdf5_f7c3_11ed_955a_e470b809ed67row9_col7,#T_cf7bbdf5_f7c3_11ed_955a_e470b809ed67row11_col12,#T_cf7bbdf5_f7c3_11ed_955a_e470b809ed67row12_col8,#T_cf7bbdf5_f7c3_11ed_955a_e470b809ed67row12_col10,#T_cf7bbdf5_f7c3_11ed_955a_e470b809ed67row13_col12,#T_cf7bbdf5_f7c3_11ed_955a_e470b809ed67row15_col9,#T_cf7bbdf5_f7c3_11ed_955a_e470b809ed67row18_col0,#T_cf7bbdf5_f7c3_11ed_955a_e470b809ed67row18_col1{\n",
       "            background-color:  #4358cb;\n",
       "            color:  #f1f1f1;\n",
       "        }#T_cf7bbdf5_f7c3_11ed_955a_e470b809ed67row0_col12,#T_cf7bbdf5_f7c3_11ed_955a_e470b809ed67row1_col5,#T_cf7bbdf5_f7c3_11ed_955a_e470b809ed67row1_col7,#T_cf7bbdf5_f7c3_11ed_955a_e470b809ed67row3_col9,#T_cf7bbdf5_f7c3_11ed_955a_e470b809ed67row3_col17,#T_cf7bbdf5_f7c3_11ed_955a_e470b809ed67row4_col9,#T_cf7bbdf5_f7c3_11ed_955a_e470b809ed67row6_col17,#T_cf7bbdf5_f7c3_11ed_955a_e470b809ed67row8_col0,#T_cf7bbdf5_f7c3_11ed_955a_e470b809ed67row8_col14,#T_cf7bbdf5_f7c3_11ed_955a_e470b809ed67row8_col16,#T_cf7bbdf5_f7c3_11ed_955a_e470b809ed67row10_col0,#T_cf7bbdf5_f7c3_11ed_955a_e470b809ed67row10_col14,#T_cf7bbdf5_f7c3_11ed_955a_e470b809ed67row10_col16,#T_cf7bbdf5_f7c3_11ed_955a_e470b809ed67row11_col0,#T_cf7bbdf5_f7c3_11ed_955a_e470b809ed67row12_col14,#T_cf7bbdf5_f7c3_11ed_955a_e470b809ed67row12_col16,#T_cf7bbdf5_f7c3_11ed_955a_e470b809ed67row13_col0,#T_cf7bbdf5_f7c3_11ed_955a_e470b809ed67row14_col1,#T_cf7bbdf5_f7c3_11ed_955a_e470b809ed67row14_col12,#T_cf7bbdf5_f7c3_11ed_955a_e470b809ed67row15_col17,#T_cf7bbdf5_f7c3_11ed_955a_e470b809ed67row16_col1,#T_cf7bbdf5_f7c3_11ed_955a_e470b809ed67row16_col12,#T_cf7bbdf5_f7c3_11ed_955a_e470b809ed67row17_col2,#T_cf7bbdf5_f7c3_11ed_955a_e470b809ed67row17_col12{\n",
       "            background-color:  #3c4ec2;\n",
       "            color:  #f1f1f1;\n",
       "        }#T_cf7bbdf5_f7c3_11ed_955a_e470b809ed67row0_col14,#T_cf7bbdf5_f7c3_11ed_955a_e470b809ed67row1_col8,#T_cf7bbdf5_f7c3_11ed_955a_e470b809ed67row1_col10,#T_cf7bbdf5_f7c3_11ed_955a_e470b809ed67row1_col15,#T_cf7bbdf5_f7c3_11ed_955a_e470b809ed67row2_col6,#T_cf7bbdf5_f7c3_11ed_955a_e470b809ed67row4_col12,#T_cf7bbdf5_f7c3_11ed_955a_e470b809ed67row5_col9,#T_cf7bbdf5_f7c3_11ed_955a_e470b809ed67row7_col9,#T_cf7bbdf5_f7c3_11ed_955a_e470b809ed67row8_col1,#T_cf7bbdf5_f7c3_11ed_955a_e470b809ed67row8_col12,#T_cf7bbdf5_f7c3_11ed_955a_e470b809ed67row9_col6,#T_cf7bbdf5_f7c3_11ed_955a_e470b809ed67row9_col11,#T_cf7bbdf5_f7c3_11ed_955a_e470b809ed67row9_col12,#T_cf7bbdf5_f7c3_11ed_955a_e470b809ed67row9_col13,#T_cf7bbdf5_f7c3_11ed_955a_e470b809ed67row9_col14,#T_cf7bbdf5_f7c3_11ed_955a_e470b809ed67row9_col16,#T_cf7bbdf5_f7c3_11ed_955a_e470b809ed67row9_col17,#T_cf7bbdf5_f7c3_11ed_955a_e470b809ed67row10_col1,#T_cf7bbdf5_f7c3_11ed_955a_e470b809ed67row10_col12,#T_cf7bbdf5_f7c3_11ed_955a_e470b809ed67row15_col6,#T_cf7bbdf5_f7c3_11ed_955a_e470b809ed67row15_col8,#T_cf7bbdf5_f7c3_11ed_955a_e470b809ed67row15_col10,#T_cf7bbdf5_f7c3_11ed_955a_e470b809ed67row18_col12{\n",
       "            background-color:  #4257c9;\n",
       "            color:  #f1f1f1;\n",
       "        }#T_cf7bbdf5_f7c3_11ed_955a_e470b809ed67row0_col15,#T_cf7bbdf5_f7c3_11ed_955a_e470b809ed67row2_col15,#T_cf7bbdf5_f7c3_11ed_955a_e470b809ed67row9_col15,#T_cf7bbdf5_f7c3_11ed_955a_e470b809ed67row17_col4{\n",
       "            background-color:  #4f69d9;\n",
       "            color:  #000000;\n",
       "        }#T_cf7bbdf5_f7c3_11ed_955a_e470b809ed67row0_col17,#T_cf7bbdf5_f7c3_11ed_955a_e470b809ed67row1_col11,#T_cf7bbdf5_f7c3_11ed_955a_e470b809ed67row1_col13,#T_cf7bbdf5_f7c3_11ed_955a_e470b809ed67row3_col1,#T_cf7bbdf5_f7c3_11ed_955a_e470b809ed67row4_col1,#T_cf7bbdf5_f7c3_11ed_955a_e470b809ed67row4_col14,#T_cf7bbdf5_f7c3_11ed_955a_e470b809ed67row4_col16,#T_cf7bbdf5_f7c3_11ed_955a_e470b809ed67row6_col5,#T_cf7bbdf5_f7c3_11ed_955a_e470b809ed67row6_col7,#T_cf7bbdf5_f7c3_11ed_955a_e470b809ed67row8_col5,#T_cf7bbdf5_f7c3_11ed_955a_e470b809ed67row8_col7,#T_cf7bbdf5_f7c3_11ed_955a_e470b809ed67row10_col5,#T_cf7bbdf5_f7c3_11ed_955a_e470b809ed67row10_col7,#T_cf7bbdf5_f7c3_11ed_955a_e470b809ed67row14_col0,#T_cf7bbdf5_f7c3_11ed_955a_e470b809ed67row14_col9,#T_cf7bbdf5_f7c3_11ed_955a_e470b809ed67row15_col5,#T_cf7bbdf5_f7c3_11ed_955a_e470b809ed67row15_col7,#T_cf7bbdf5_f7c3_11ed_955a_e470b809ed67row16_col0,#T_cf7bbdf5_f7c3_11ed_955a_e470b809ed67row16_col9,#T_cf7bbdf5_f7c3_11ed_955a_e470b809ed67row18_col9{\n",
       "            background-color:  #4055c8;\n",
       "            color:  #f1f1f1;\n",
       "        }#T_cf7bbdf5_f7c3_11ed_955a_e470b809ed67row0_col18,#T_cf7bbdf5_f7c3_11ed_955a_e470b809ed67row12_col3{\n",
       "            background-color:  #5b7ae5;\n",
       "            color:  #000000;\n",
       "        }#T_cf7bbdf5_f7c3_11ed_955a_e470b809ed67row1_col0,#T_cf7bbdf5_f7c3_11ed_955a_e470b809ed67row1_col9,#T_cf7bbdf5_f7c3_11ed_955a_e470b809ed67row1_col14,#T_cf7bbdf5_f7c3_11ed_955a_e470b809ed67row1_col16,#T_cf7bbdf5_f7c3_11ed_955a_e470b809ed67row2_col11,#T_cf7bbdf5_f7c3_11ed_955a_e470b809ed67row2_col13,#T_cf7bbdf5_f7c3_11ed_955a_e470b809ed67row2_col17,#T_cf7bbdf5_f7c3_11ed_955a_e470b809ed67row3_col18,#T_cf7bbdf5_f7c3_11ed_955a_e470b809ed67row6_col8,#T_cf7bbdf5_f7c3_11ed_955a_e470b809ed67row6_col10,#T_cf7bbdf5_f7c3_11ed_955a_e470b809ed67row6_col12,#T_cf7bbdf5_f7c3_11ed_955a_e470b809ed67row8_col6,#T_cf7bbdf5_f7c3_11ed_955a_e470b809ed67row8_col9,#T_cf7bbdf5_f7c3_11ed_955a_e470b809ed67row10_col6,#T_cf7bbdf5_f7c3_11ed_955a_e470b809ed67row10_col9,#T_cf7bbdf5_f7c3_11ed_955a_e470b809ed67row11_col2,#T_cf7bbdf5_f7c3_11ed_955a_e470b809ed67row11_col14,#T_cf7bbdf5_f7c3_11ed_955a_e470b809ed67row11_col16,#T_cf7bbdf5_f7c3_11ed_955a_e470b809ed67row12_col0,#T_cf7bbdf5_f7c3_11ed_955a_e470b809ed67row12_col6,#T_cf7bbdf5_f7c3_11ed_955a_e470b809ed67row13_col2,#T_cf7bbdf5_f7c3_11ed_955a_e470b809ed67row13_col14,#T_cf7bbdf5_f7c3_11ed_955a_e470b809ed67row13_col16,#T_cf7bbdf5_f7c3_11ed_955a_e470b809ed67row14_col5,#T_cf7bbdf5_f7c3_11ed_955a_e470b809ed67row14_col7,#T_cf7bbdf5_f7c3_11ed_955a_e470b809ed67row15_col1,#T_cf7bbdf5_f7c3_11ed_955a_e470b809ed67row16_col5,#T_cf7bbdf5_f7c3_11ed_955a_e470b809ed67row16_col7,#T_cf7bbdf5_f7c3_11ed_955a_e470b809ed67row17_col5,#T_cf7bbdf5_f7c3_11ed_955a_e470b809ed67row17_col6,#T_cf7bbdf5_f7c3_11ed_955a_e470b809ed67row17_col7,#T_cf7bbdf5_f7c3_11ed_955a_e470b809ed67row18_col3,#T_cf7bbdf5_f7c3_11ed_955a_e470b809ed67row18_col4,#T_cf7bbdf5_f7c3_11ed_955a_e470b809ed67row18_col15{\n",
       "            background-color:  #3b4cc0;\n",
       "            color:  #f1f1f1;\n",
       "        }#T_cf7bbdf5_f7c3_11ed_955a_e470b809ed67row1_col3,#T_cf7bbdf5_f7c3_11ed_955a_e470b809ed67row2_col4,#T_cf7bbdf5_f7c3_11ed_955a_e470b809ed67row5_col3,#T_cf7bbdf5_f7c3_11ed_955a_e470b809ed67row7_col3,#T_cf7bbdf5_f7c3_11ed_955a_e470b809ed67row14_col3,#T_cf7bbdf5_f7c3_11ed_955a_e470b809ed67row16_col3{\n",
       "            background-color:  #5673e0;\n",
       "            color:  #000000;\n",
       "        }#T_cf7bbdf5_f7c3_11ed_955a_e470b809ed67row1_col4,#T_cf7bbdf5_f7c3_11ed_955a_e470b809ed67row14_col15,#T_cf7bbdf5_f7c3_11ed_955a_e470b809ed67row16_col15{\n",
       "            background-color:  #536edd;\n",
       "            color:  #000000;\n",
       "        }#T_cf7bbdf5_f7c3_11ed_955a_e470b809ed67row1_col12,#T_cf7bbdf5_f7c3_11ed_955a_e470b809ed67row2_col0,#T_cf7bbdf5_f7c3_11ed_955a_e470b809ed67row4_col2,#T_cf7bbdf5_f7c3_11ed_955a_e470b809ed67row4_col8,#T_cf7bbdf5_f7c3_11ed_955a_e470b809ed67row4_col10,#T_cf7bbdf5_f7c3_11ed_955a_e470b809ed67row4_col11,#T_cf7bbdf5_f7c3_11ed_955a_e470b809ed67row4_col13,#T_cf7bbdf5_f7c3_11ed_955a_e470b809ed67row11_col15,#T_cf7bbdf5_f7c3_11ed_955a_e470b809ed67row12_col5,#T_cf7bbdf5_f7c3_11ed_955a_e470b809ed67row12_col7,#T_cf7bbdf5_f7c3_11ed_955a_e470b809ed67row12_col11,#T_cf7bbdf5_f7c3_11ed_955a_e470b809ed67row12_col13,#T_cf7bbdf5_f7c3_11ed_955a_e470b809ed67row13_col15{\n",
       "            background-color:  #455cce;\n",
       "            color:  #f1f1f1;\n",
       "        }#T_cf7bbdf5_f7c3_11ed_955a_e470b809ed67row1_col18,#T_cf7bbdf5_f7c3_11ed_955a_e470b809ed67row2_col3,#T_cf7bbdf5_f7c3_11ed_955a_e470b809ed67row8_col4,#T_cf7bbdf5_f7c3_11ed_955a_e470b809ed67row9_col18,#T_cf7bbdf5_f7c3_11ed_955a_e470b809ed67row10_col4,#T_cf7bbdf5_f7c3_11ed_955a_e470b809ed67row11_col3,#T_cf7bbdf5_f7c3_11ed_955a_e470b809ed67row12_col18,#T_cf7bbdf5_f7c3_11ed_955a_e470b809ed67row13_col3,#T_cf7bbdf5_f7c3_11ed_955a_e470b809ed67row15_col3{\n",
       "            background-color:  #5977e3;\n",
       "            color:  #000000;\n",
       "        }#T_cf7bbdf5_f7c3_11ed_955a_e470b809ed67row2_col1,#T_cf7bbdf5_f7c3_11ed_955a_e470b809ed67row6_col4,#T_cf7bbdf5_f7c3_11ed_955a_e470b809ed67row14_col2,#T_cf7bbdf5_f7c3_11ed_955a_e470b809ed67row16_col2{\n",
       "            background-color:  #506bda;\n",
       "            color:  #000000;\n",
       "        }#T_cf7bbdf5_f7c3_11ed_955a_e470b809ed67row2_col8,#T_cf7bbdf5_f7c3_11ed_955a_e470b809ed67row2_col10,#T_cf7bbdf5_f7c3_11ed_955a_e470b809ed67row3_col8,#T_cf7bbdf5_f7c3_11ed_955a_e470b809ed67row3_col10,#T_cf7bbdf5_f7c3_11ed_955a_e470b809ed67row5_col12,#T_cf7bbdf5_f7c3_11ed_955a_e470b809ed67row6_col14,#T_cf7bbdf5_f7c3_11ed_955a_e470b809ed67row6_col16,#T_cf7bbdf5_f7c3_11ed_955a_e470b809ed67row7_col12,#T_cf7bbdf5_f7c3_11ed_955a_e470b809ed67row12_col1,#T_cf7bbdf5_f7c3_11ed_955a_e470b809ed67row12_col2,#T_cf7bbdf5_f7c3_11ed_955a_e470b809ed67row14_col6,#T_cf7bbdf5_f7c3_11ed_955a_e470b809ed67row16_col6,#T_cf7bbdf5_f7c3_11ed_955a_e470b809ed67row18_col6{\n",
       "            background-color:  #465ecf;\n",
       "            color:  #f1f1f1;\n",
       "        }#T_cf7bbdf5_f7c3_11ed_955a_e470b809ed67row2_col12,#T_cf7bbdf5_f7c3_11ed_955a_e470b809ed67row3_col2,#T_cf7bbdf5_f7c3_11ed_955a_e470b809ed67row3_col11,#T_cf7bbdf5_f7c3_11ed_955a_e470b809ed67row3_col12,#T_cf7bbdf5_f7c3_11ed_955a_e470b809ed67row3_col13,#T_cf7bbdf5_f7c3_11ed_955a_e470b809ed67row5_col11,#T_cf7bbdf5_f7c3_11ed_955a_e470b809ed67row5_col13,#T_cf7bbdf5_f7c3_11ed_955a_e470b809ed67row6_col2,#T_cf7bbdf5_f7c3_11ed_955a_e470b809ed67row7_col11,#T_cf7bbdf5_f7c3_11ed_955a_e470b809ed67row7_col13,#T_cf7bbdf5_f7c3_11ed_955a_e470b809ed67row9_col0,#T_cf7bbdf5_f7c3_11ed_955a_e470b809ed67row9_col2,#T_cf7bbdf5_f7c3_11ed_955a_e470b809ed67row15_col0,#T_cf7bbdf5_f7c3_11ed_955a_e470b809ed67row17_col15{\n",
       "            background-color:  #445acc;\n",
       "            color:  #f1f1f1;\n",
       "        }#T_cf7bbdf5_f7c3_11ed_955a_e470b809ed67row2_col14,#T_cf7bbdf5_f7c3_11ed_955a_e470b809ed67row2_col16,#T_cf7bbdf5_f7c3_11ed_955a_e470b809ed67row4_col15,#T_cf7bbdf5_f7c3_11ed_955a_e470b809ed67row18_col11,#T_cf7bbdf5_f7c3_11ed_955a_e470b809ed67row18_col13{\n",
       "            background-color:  #4e68d8;\n",
       "            color:  #000000;\n",
       "        }#T_cf7bbdf5_f7c3_11ed_955a_e470b809ed67row2_col18{\n",
       "            background-color:  #a9c6fd;\n",
       "            color:  #000000;\n",
       "        }#T_cf7bbdf5_f7c3_11ed_955a_e470b809ed67row3_col4,#T_cf7bbdf5_f7c3_11ed_955a_e470b809ed67row4_col3{\n",
       "            background-color:  #c32e31;\n",
       "            color:  #f1f1f1;\n",
       "        }#T_cf7bbdf5_f7c3_11ed_955a_e470b809ed67row3_col15,#T_cf7bbdf5_f7c3_11ed_955a_e470b809ed67row5_col15,#T_cf7bbdf5_f7c3_11ed_955a_e470b809ed67row7_col15{\n",
       "            background-color:  #4b64d5;\n",
       "            color:  #f1f1f1;\n",
       "        }#T_cf7bbdf5_f7c3_11ed_955a_e470b809ed67row5_col4,#T_cf7bbdf5_f7c3_11ed_955a_e470b809ed67row6_col3,#T_cf7bbdf5_f7c3_11ed_955a_e470b809ed67row7_col4,#T_cf7bbdf5_f7c3_11ed_955a_e470b809ed67row14_col4,#T_cf7bbdf5_f7c3_11ed_955a_e470b809ed67row16_col4,#T_cf7bbdf5_f7c3_11ed_955a_e470b809ed67row18_col14,#T_cf7bbdf5_f7c3_11ed_955a_e470b809ed67row18_col16{\n",
       "            background-color:  #5470de;\n",
       "            color:  #000000;\n",
       "        }#T_cf7bbdf5_f7c3_11ed_955a_e470b809ed67row5_col18,#T_cf7bbdf5_f7c3_11ed_955a_e470b809ed67row7_col18,#T_cf7bbdf5_f7c3_11ed_955a_e470b809ed67row18_col2{\n",
       "            background-color:  #97b8ff;\n",
       "            color:  #000000;\n",
       "        }#T_cf7bbdf5_f7c3_11ed_955a_e470b809ed67row6_col11,#T_cf7bbdf5_f7c3_11ed_955a_e470b809ed67row6_col13,#T_cf7bbdf5_f7c3_11ed_955a_e470b809ed67row12_col15,#T_cf7bbdf5_f7c3_11ed_955a_e470b809ed67row15_col14,#T_cf7bbdf5_f7c3_11ed_955a_e470b809ed67row15_col16,#T_cf7bbdf5_f7c3_11ed_955a_e470b809ed67row17_col1{\n",
       "            background-color:  #4961d2;\n",
       "            color:  #f1f1f1;\n",
       "        }#T_cf7bbdf5_f7c3_11ed_955a_e470b809ed67row6_col18,#T_cf7bbdf5_f7c3_11ed_955a_e470b809ed67row8_col3,#T_cf7bbdf5_f7c3_11ed_955a_e470b809ed67row10_col3,#T_cf7bbdf5_f7c3_11ed_955a_e470b809ed67row18_col8,#T_cf7bbdf5_f7c3_11ed_955a_e470b809ed67row18_col10{\n",
       "            background-color:  #5d7ce6;\n",
       "            color:  #000000;\n",
       "        }#T_cf7bbdf5_f7c3_11ed_955a_e470b809ed67row8_col2,#T_cf7bbdf5_f7c3_11ed_955a_e470b809ed67row10_col2,#T_cf7bbdf5_f7c3_11ed_955a_e470b809ed67row11_col6,#T_cf7bbdf5_f7c3_11ed_955a_e470b809ed67row13_col6,#T_cf7bbdf5_f7c3_11ed_955a_e470b809ed67row15_col2,#T_cf7bbdf5_f7c3_11ed_955a_e470b809ed67row15_col18{\n",
       "            background-color:  #485fd1;\n",
       "            color:  #f1f1f1;\n",
       "        }#T_cf7bbdf5_f7c3_11ed_955a_e470b809ed67row8_col18,#T_cf7bbdf5_f7c3_11ed_955a_e470b809ed67row10_col18{\n",
       "            background-color:  #7396f5;\n",
       "            color:  #000000;\n",
       "        }#T_cf7bbdf5_f7c3_11ed_955a_e470b809ed67row9_col3,#T_cf7bbdf5_f7c3_11ed_955a_e470b809ed67row11_col4,#T_cf7bbdf5_f7c3_11ed_955a_e470b809ed67row12_col4,#T_cf7bbdf5_f7c3_11ed_955a_e470b809ed67row13_col4{\n",
       "            background-color:  #5572df;\n",
       "            color:  #000000;\n",
       "        }#T_cf7bbdf5_f7c3_11ed_955a_e470b809ed67row11_col18,#T_cf7bbdf5_f7c3_11ed_955a_e470b809ed67row13_col18{\n",
       "            background-color:  #6180e9;\n",
       "            color:  #000000;\n",
       "        }#T_cf7bbdf5_f7c3_11ed_955a_e470b809ed67row14_col18,#T_cf7bbdf5_f7c3_11ed_955a_e470b809ed67row16_col18{\n",
       "            background-color:  #6b8df0;\n",
       "            color:  #000000;\n",
       "        }#T_cf7bbdf5_f7c3_11ed_955a_e470b809ed67row17_col18{\n",
       "            background-color:  #98b9ff;\n",
       "            color:  #000000;\n",
       "        }#T_cf7bbdf5_f7c3_11ed_955a_e470b809ed67row18_col5,#T_cf7bbdf5_f7c3_11ed_955a_e470b809ed67row18_col7{\n",
       "            background-color:  #81a4fb;\n",
       "            color:  #000000;\n",
       "        }#T_cf7bbdf5_f7c3_11ed_955a_e470b809ed67row18_col17{\n",
       "            background-color:  #85a8fc;\n",
       "            color:  #000000;\n",
       "        }</style><table id=\"T_cf7bbdf5_f7c3_11ed_955a_e470b809ed67\" ><thead>    <tr>        <th class=\"blank level0\" ></th>        <th class=\"col_heading level0 col0\" >account length</th>        <th class=\"col_heading level0 col1\" >area code</th>        <th class=\"col_heading level0 col2\" >international plan</th>        <th class=\"col_heading level0 col3\" >voice mail plan</th>        <th class=\"col_heading level0 col4\" >number vmail messages</th>        <th class=\"col_heading level0 col5\" >total day minutes</th>        <th class=\"col_heading level0 col6\" >total day calls</th>        <th class=\"col_heading level0 col7\" >total day charge</th>        <th class=\"col_heading level0 col8\" >total eve minutes</th>        <th class=\"col_heading level0 col9\" >total eve calls</th>        <th class=\"col_heading level0 col10\" >total eve charge</th>        <th class=\"col_heading level0 col11\" >total night minutes</th>        <th class=\"col_heading level0 col12\" >total night calls</th>        <th class=\"col_heading level0 col13\" >total night charge</th>        <th class=\"col_heading level0 col14\" >total intl minutes</th>        <th class=\"col_heading level0 col15\" >total intl calls</th>        <th class=\"col_heading level0 col16\" >total intl charge</th>        <th class=\"col_heading level0 col17\" >customer service calls</th>        <th class=\"col_heading level0 col18\" >churn</th>    </tr></thead><tbody>\n",
       "                <tr>\n",
       "                        <th id=\"T_cf7bbdf5_f7c3_11ed_955a_e470b809ed67level0_row0\" class=\"row_heading level0 row0\" >account length</th>\n",
       "                        <td id=\"T_cf7bbdf5_f7c3_11ed_955a_e470b809ed67row0_col0\" class=\"data row0 col0\" >1.00</td>\n",
       "                        <td id=\"T_cf7bbdf5_f7c3_11ed_955a_e470b809ed67row0_col1\" class=\"data row0 col1\" >-0.01</td>\n",
       "                        <td id=\"T_cf7bbdf5_f7c3_11ed_955a_e470b809ed67row0_col2\" class=\"data row0 col2\" >0.02</td>\n",
       "                        <td id=\"T_cf7bbdf5_f7c3_11ed_955a_e470b809ed67row0_col3\" class=\"data row0 col3\" >0.00</td>\n",
       "                        <td id=\"T_cf7bbdf5_f7c3_11ed_955a_e470b809ed67row0_col4\" class=\"data row0 col4\" >-0.00</td>\n",
       "                        <td id=\"T_cf7bbdf5_f7c3_11ed_955a_e470b809ed67row0_col5\" class=\"data row0 col5\" >0.01</td>\n",
       "                        <td id=\"T_cf7bbdf5_f7c3_11ed_955a_e470b809ed67row0_col6\" class=\"data row0 col6\" >0.04</td>\n",
       "                        <td id=\"T_cf7bbdf5_f7c3_11ed_955a_e470b809ed67row0_col7\" class=\"data row0 col7\" >0.01</td>\n",
       "                        <td id=\"T_cf7bbdf5_f7c3_11ed_955a_e470b809ed67row0_col8\" class=\"data row0 col8\" >-0.01</td>\n",
       "                        <td id=\"T_cf7bbdf5_f7c3_11ed_955a_e470b809ed67row0_col9\" class=\"data row0 col9\" >0.02</td>\n",
       "                        <td id=\"T_cf7bbdf5_f7c3_11ed_955a_e470b809ed67row0_col10\" class=\"data row0 col10\" >-0.01</td>\n",
       "                        <td id=\"T_cf7bbdf5_f7c3_11ed_955a_e470b809ed67row0_col11\" class=\"data row0 col11\" >-0.01</td>\n",
       "                        <td id=\"T_cf7bbdf5_f7c3_11ed_955a_e470b809ed67row0_col12\" class=\"data row0 col12\" >-0.01</td>\n",
       "                        <td id=\"T_cf7bbdf5_f7c3_11ed_955a_e470b809ed67row0_col13\" class=\"data row0 col13\" >-0.01</td>\n",
       "                        <td id=\"T_cf7bbdf5_f7c3_11ed_955a_e470b809ed67row0_col14\" class=\"data row0 col14\" >0.01</td>\n",
       "                        <td id=\"T_cf7bbdf5_f7c3_11ed_955a_e470b809ed67row0_col15\" class=\"data row0 col15\" >0.02</td>\n",
       "                        <td id=\"T_cf7bbdf5_f7c3_11ed_955a_e470b809ed67row0_col16\" class=\"data row0 col16\" >0.01</td>\n",
       "                        <td id=\"T_cf7bbdf5_f7c3_11ed_955a_e470b809ed67row0_col17\" class=\"data row0 col17\" >-0.00</td>\n",
       "                        <td id=\"T_cf7bbdf5_f7c3_11ed_955a_e470b809ed67row0_col18\" class=\"data row0 col18\" >0.02</td>\n",
       "            </tr>\n",
       "            <tr>\n",
       "                        <th id=\"T_cf7bbdf5_f7c3_11ed_955a_e470b809ed67level0_row1\" class=\"row_heading level0 row1\" >area code</th>\n",
       "                        <td id=\"T_cf7bbdf5_f7c3_11ed_955a_e470b809ed67row1_col0\" class=\"data row1 col0\" >-0.01</td>\n",
       "                        <td id=\"T_cf7bbdf5_f7c3_11ed_955a_e470b809ed67row1_col1\" class=\"data row1 col1\" >1.00</td>\n",
       "                        <td id=\"T_cf7bbdf5_f7c3_11ed_955a_e470b809ed67row1_col2\" class=\"data row1 col2\" >0.05</td>\n",
       "                        <td id=\"T_cf7bbdf5_f7c3_11ed_955a_e470b809ed67row1_col3\" class=\"data row1 col3\" >-0.00</td>\n",
       "                        <td id=\"T_cf7bbdf5_f7c3_11ed_955a_e470b809ed67row1_col4\" class=\"data row1 col4\" >-0.00</td>\n",
       "                        <td id=\"T_cf7bbdf5_f7c3_11ed_955a_e470b809ed67row1_col5\" class=\"data row1 col5\" >-0.01</td>\n",
       "                        <td id=\"T_cf7bbdf5_f7c3_11ed_955a_e470b809ed67row1_col6\" class=\"data row1 col6\" >-0.01</td>\n",
       "                        <td id=\"T_cf7bbdf5_f7c3_11ed_955a_e470b809ed67row1_col7\" class=\"data row1 col7\" >-0.01</td>\n",
       "                        <td id=\"T_cf7bbdf5_f7c3_11ed_955a_e470b809ed67row1_col8\" class=\"data row1 col8\" >0.00</td>\n",
       "                        <td id=\"T_cf7bbdf5_f7c3_11ed_955a_e470b809ed67row1_col9\" class=\"data row1 col9\" >-0.01</td>\n",
       "                        <td id=\"T_cf7bbdf5_f7c3_11ed_955a_e470b809ed67row1_col10\" class=\"data row1 col10\" >0.00</td>\n",
       "                        <td id=\"T_cf7bbdf5_f7c3_11ed_955a_e470b809ed67row1_col11\" class=\"data row1 col11\" >-0.01</td>\n",
       "                        <td id=\"T_cf7bbdf5_f7c3_11ed_955a_e470b809ed67row1_col12\" class=\"data row1 col12\" >0.02</td>\n",
       "                        <td id=\"T_cf7bbdf5_f7c3_11ed_955a_e470b809ed67row1_col13\" class=\"data row1 col13\" >-0.01</td>\n",
       "                        <td id=\"T_cf7bbdf5_f7c3_11ed_955a_e470b809ed67row1_col14\" class=\"data row1 col14\" >-0.02</td>\n",
       "                        <td id=\"T_cf7bbdf5_f7c3_11ed_955a_e470b809ed67row1_col15\" class=\"data row1 col15\" >-0.02</td>\n",
       "                        <td id=\"T_cf7bbdf5_f7c3_11ed_955a_e470b809ed67row1_col16\" class=\"data row1 col16\" >-0.02</td>\n",
       "                        <td id=\"T_cf7bbdf5_f7c3_11ed_955a_e470b809ed67row1_col17\" class=\"data row1 col17\" >0.03</td>\n",
       "                        <td id=\"T_cf7bbdf5_f7c3_11ed_955a_e470b809ed67row1_col18\" class=\"data row1 col18\" >0.01</td>\n",
       "            </tr>\n",
       "            <tr>\n",
       "                        <th id=\"T_cf7bbdf5_f7c3_11ed_955a_e470b809ed67level0_row2\" class=\"row_heading level0 row2\" >international plan</th>\n",
       "                        <td id=\"T_cf7bbdf5_f7c3_11ed_955a_e470b809ed67row2_col0\" class=\"data row2 col0\" >0.02</td>\n",
       "                        <td id=\"T_cf7bbdf5_f7c3_11ed_955a_e470b809ed67row2_col1\" class=\"data row2 col1\" >0.05</td>\n",
       "                        <td id=\"T_cf7bbdf5_f7c3_11ed_955a_e470b809ed67row2_col2\" class=\"data row2 col2\" >1.00</td>\n",
       "                        <td id=\"T_cf7bbdf5_f7c3_11ed_955a_e470b809ed67row2_col3\" class=\"data row2 col3\" >0.01</td>\n",
       "                        <td id=\"T_cf7bbdf5_f7c3_11ed_955a_e470b809ed67row2_col4\" class=\"data row2 col4\" >0.01</td>\n",
       "                        <td id=\"T_cf7bbdf5_f7c3_11ed_955a_e470b809ed67row2_col5\" class=\"data row2 col5\" >0.05</td>\n",
       "                        <td id=\"T_cf7bbdf5_f7c3_11ed_955a_e470b809ed67row2_col6\" class=\"data row2 col6\" >0.00</td>\n",
       "                        <td id=\"T_cf7bbdf5_f7c3_11ed_955a_e470b809ed67row2_col7\" class=\"data row2 col7\" >0.05</td>\n",
       "                        <td id=\"T_cf7bbdf5_f7c3_11ed_955a_e470b809ed67row2_col8\" class=\"data row2 col8\" >0.02</td>\n",
       "                        <td id=\"T_cf7bbdf5_f7c3_11ed_955a_e470b809ed67row2_col9\" class=\"data row2 col9\" >0.01</td>\n",
       "                        <td id=\"T_cf7bbdf5_f7c3_11ed_955a_e470b809ed67row2_col10\" class=\"data row2 col10\" >0.02</td>\n",
       "                        <td id=\"T_cf7bbdf5_f7c3_11ed_955a_e470b809ed67row2_col11\" class=\"data row2 col11\" >-0.03</td>\n",
       "                        <td id=\"T_cf7bbdf5_f7c3_11ed_955a_e470b809ed67row2_col12\" class=\"data row2 col12\" >0.01</td>\n",
       "                        <td id=\"T_cf7bbdf5_f7c3_11ed_955a_e470b809ed67row2_col13\" class=\"data row2 col13\" >-0.03</td>\n",
       "                        <td id=\"T_cf7bbdf5_f7c3_11ed_955a_e470b809ed67row2_col14\" class=\"data row2 col14\" >0.05</td>\n",
       "                        <td id=\"T_cf7bbdf5_f7c3_11ed_955a_e470b809ed67row2_col15\" class=\"data row2 col15\" >0.02</td>\n",
       "                        <td id=\"T_cf7bbdf5_f7c3_11ed_955a_e470b809ed67row2_col16\" class=\"data row2 col16\" >0.05</td>\n",
       "                        <td id=\"T_cf7bbdf5_f7c3_11ed_955a_e470b809ed67row2_col17\" class=\"data row2 col17\" >-0.02</td>\n",
       "                        <td id=\"T_cf7bbdf5_f7c3_11ed_955a_e470b809ed67row2_col18\" class=\"data row2 col18\" >0.26</td>\n",
       "            </tr>\n",
       "            <tr>\n",
       "                        <th id=\"T_cf7bbdf5_f7c3_11ed_955a_e470b809ed67level0_row3\" class=\"row_heading level0 row3\" >voice mail plan</th>\n",
       "                        <td id=\"T_cf7bbdf5_f7c3_11ed_955a_e470b809ed67row3_col0\" class=\"data row3 col0\" >0.00</td>\n",
       "                        <td id=\"T_cf7bbdf5_f7c3_11ed_955a_e470b809ed67row3_col1\" class=\"data row3 col1\" >-0.00</td>\n",
       "                        <td id=\"T_cf7bbdf5_f7c3_11ed_955a_e470b809ed67row3_col2\" class=\"data row3 col2\" >0.01</td>\n",
       "                        <td id=\"T_cf7bbdf5_f7c3_11ed_955a_e470b809ed67row3_col3\" class=\"data row3 col3\" >1.00</td>\n",
       "                        <td id=\"T_cf7bbdf5_f7c3_11ed_955a_e470b809ed67row3_col4\" class=\"data row3 col4\" >0.96</td>\n",
       "                        <td id=\"T_cf7bbdf5_f7c3_11ed_955a_e470b809ed67row3_col5\" class=\"data row3 col5\" >-0.00</td>\n",
       "                        <td id=\"T_cf7bbdf5_f7c3_11ed_955a_e470b809ed67row3_col6\" class=\"data row3 col6\" >-0.01</td>\n",
       "                        <td id=\"T_cf7bbdf5_f7c3_11ed_955a_e470b809ed67row3_col7\" class=\"data row3 col7\" >-0.00</td>\n",
       "                        <td id=\"T_cf7bbdf5_f7c3_11ed_955a_e470b809ed67row3_col8\" class=\"data row3 col8\" >0.02</td>\n",
       "                        <td id=\"T_cf7bbdf5_f7c3_11ed_955a_e470b809ed67row3_col9\" class=\"data row3 col9\" >-0.01</td>\n",
       "                        <td id=\"T_cf7bbdf5_f7c3_11ed_955a_e470b809ed67row3_col10\" class=\"data row3 col10\" >0.02</td>\n",
       "                        <td id=\"T_cf7bbdf5_f7c3_11ed_955a_e470b809ed67row3_col11\" class=\"data row3 col11\" >0.01</td>\n",
       "                        <td id=\"T_cf7bbdf5_f7c3_11ed_955a_e470b809ed67row3_col12\" class=\"data row3 col12\" >0.02</td>\n",
       "                        <td id=\"T_cf7bbdf5_f7c3_11ed_955a_e470b809ed67row3_col13\" class=\"data row3 col13\" >0.01</td>\n",
       "                        <td id=\"T_cf7bbdf5_f7c3_11ed_955a_e470b809ed67row3_col14\" class=\"data row3 col14\" >-0.00</td>\n",
       "                        <td id=\"T_cf7bbdf5_f7c3_11ed_955a_e470b809ed67row3_col15\" class=\"data row3 col15\" >0.01</td>\n",
       "                        <td id=\"T_cf7bbdf5_f7c3_11ed_955a_e470b809ed67row3_col16\" class=\"data row3 col16\" >-0.00</td>\n",
       "                        <td id=\"T_cf7bbdf5_f7c3_11ed_955a_e470b809ed67row3_col17\" class=\"data row3 col17\" >-0.02</td>\n",
       "                        <td id=\"T_cf7bbdf5_f7c3_11ed_955a_e470b809ed67row3_col18\" class=\"data row3 col18\" >-0.10</td>\n",
       "            </tr>\n",
       "            <tr>\n",
       "                        <th id=\"T_cf7bbdf5_f7c3_11ed_955a_e470b809ed67level0_row4\" class=\"row_heading level0 row4\" >number vmail messages</th>\n",
       "                        <td id=\"T_cf7bbdf5_f7c3_11ed_955a_e470b809ed67row4_col0\" class=\"data row4 col0\" >-0.00</td>\n",
       "                        <td id=\"T_cf7bbdf5_f7c3_11ed_955a_e470b809ed67row4_col1\" class=\"data row4 col1\" >-0.00</td>\n",
       "                        <td id=\"T_cf7bbdf5_f7c3_11ed_955a_e470b809ed67row4_col2\" class=\"data row4 col2\" >0.01</td>\n",
       "                        <td id=\"T_cf7bbdf5_f7c3_11ed_955a_e470b809ed67row4_col3\" class=\"data row4 col3\" >0.96</td>\n",
       "                        <td id=\"T_cf7bbdf5_f7c3_11ed_955a_e470b809ed67row4_col4\" class=\"data row4 col4\" >1.00</td>\n",
       "                        <td id=\"T_cf7bbdf5_f7c3_11ed_955a_e470b809ed67row4_col5\" class=\"data row4 col5\" >0.00</td>\n",
       "                        <td id=\"T_cf7bbdf5_f7c3_11ed_955a_e470b809ed67row4_col6\" class=\"data row4 col6\" >-0.01</td>\n",
       "                        <td id=\"T_cf7bbdf5_f7c3_11ed_955a_e470b809ed67row4_col7\" class=\"data row4 col7\" >0.00</td>\n",
       "                        <td id=\"T_cf7bbdf5_f7c3_11ed_955a_e470b809ed67row4_col8\" class=\"data row4 col8\" >0.02</td>\n",
       "                        <td id=\"T_cf7bbdf5_f7c3_11ed_955a_e470b809ed67row4_col9\" class=\"data row4 col9\" >-0.01</td>\n",
       "                        <td id=\"T_cf7bbdf5_f7c3_11ed_955a_e470b809ed67row4_col10\" class=\"data row4 col10\" >0.02</td>\n",
       "                        <td id=\"T_cf7bbdf5_f7c3_11ed_955a_e470b809ed67row4_col11\" class=\"data row4 col11\" >0.01</td>\n",
       "                        <td id=\"T_cf7bbdf5_f7c3_11ed_955a_e470b809ed67row4_col12\" class=\"data row4 col12\" >0.01</td>\n",
       "                        <td id=\"T_cf7bbdf5_f7c3_11ed_955a_e470b809ed67row4_col13\" class=\"data row4 col13\" >0.01</td>\n",
       "                        <td id=\"T_cf7bbdf5_f7c3_11ed_955a_e470b809ed67row4_col14\" class=\"data row4 col14\" >0.00</td>\n",
       "                        <td id=\"T_cf7bbdf5_f7c3_11ed_955a_e470b809ed67row4_col15\" class=\"data row4 col15\" >0.01</td>\n",
       "                        <td id=\"T_cf7bbdf5_f7c3_11ed_955a_e470b809ed67row4_col16\" class=\"data row4 col16\" >0.00</td>\n",
       "                        <td id=\"T_cf7bbdf5_f7c3_11ed_955a_e470b809ed67row4_col17\" class=\"data row4 col17\" >-0.01</td>\n",
       "                        <td id=\"T_cf7bbdf5_f7c3_11ed_955a_e470b809ed67row4_col18\" class=\"data row4 col18\" >-0.09</td>\n",
       "            </tr>\n",
       "            <tr>\n",
       "                        <th id=\"T_cf7bbdf5_f7c3_11ed_955a_e470b809ed67level0_row5\" class=\"row_heading level0 row5\" >total day minutes</th>\n",
       "                        <td id=\"T_cf7bbdf5_f7c3_11ed_955a_e470b809ed67row5_col0\" class=\"data row5 col0\" >0.01</td>\n",
       "                        <td id=\"T_cf7bbdf5_f7c3_11ed_955a_e470b809ed67row5_col1\" class=\"data row5 col1\" >-0.01</td>\n",
       "                        <td id=\"T_cf7bbdf5_f7c3_11ed_955a_e470b809ed67row5_col2\" class=\"data row5 col2\" >0.05</td>\n",
       "                        <td id=\"T_cf7bbdf5_f7c3_11ed_955a_e470b809ed67row5_col3\" class=\"data row5 col3\" >-0.00</td>\n",
       "                        <td id=\"T_cf7bbdf5_f7c3_11ed_955a_e470b809ed67row5_col4\" class=\"data row5 col4\" >0.00</td>\n",
       "                        <td id=\"T_cf7bbdf5_f7c3_11ed_955a_e470b809ed67row5_col5\" class=\"data row5 col5\" >1.00</td>\n",
       "                        <td id=\"T_cf7bbdf5_f7c3_11ed_955a_e470b809ed67row5_col6\" class=\"data row5 col6\" >0.01</td>\n",
       "                        <td id=\"T_cf7bbdf5_f7c3_11ed_955a_e470b809ed67row5_col7\" class=\"data row5 col7\" >1.00</td>\n",
       "                        <td id=\"T_cf7bbdf5_f7c3_11ed_955a_e470b809ed67row5_col8\" class=\"data row5 col8\" >0.01</td>\n",
       "                        <td id=\"T_cf7bbdf5_f7c3_11ed_955a_e470b809ed67row5_col9\" class=\"data row5 col9\" >0.02</td>\n",
       "                        <td id=\"T_cf7bbdf5_f7c3_11ed_955a_e470b809ed67row5_col10\" class=\"data row5 col10\" >0.01</td>\n",
       "                        <td id=\"T_cf7bbdf5_f7c3_11ed_955a_e470b809ed67row5_col11\" class=\"data row5 col11\" >0.00</td>\n",
       "                        <td id=\"T_cf7bbdf5_f7c3_11ed_955a_e470b809ed67row5_col12\" class=\"data row5 col12\" >0.02</td>\n",
       "                        <td id=\"T_cf7bbdf5_f7c3_11ed_955a_e470b809ed67row5_col13\" class=\"data row5 col13\" >0.00</td>\n",
       "                        <td id=\"T_cf7bbdf5_f7c3_11ed_955a_e470b809ed67row5_col14\" class=\"data row5 col14\" >-0.01</td>\n",
       "                        <td id=\"T_cf7bbdf5_f7c3_11ed_955a_e470b809ed67row5_col15\" class=\"data row5 col15\" >0.01</td>\n",
       "                        <td id=\"T_cf7bbdf5_f7c3_11ed_955a_e470b809ed67row5_col16\" class=\"data row5 col16\" >-0.01</td>\n",
       "                        <td id=\"T_cf7bbdf5_f7c3_11ed_955a_e470b809ed67row5_col17\" class=\"data row5 col17\" >-0.01</td>\n",
       "                        <td id=\"T_cf7bbdf5_f7c3_11ed_955a_e470b809ed67row5_col18\" class=\"data row5 col18\" >0.21</td>\n",
       "            </tr>\n",
       "            <tr>\n",
       "                        <th id=\"T_cf7bbdf5_f7c3_11ed_955a_e470b809ed67level0_row6\" class=\"row_heading level0 row6\" >total day calls</th>\n",
       "                        <td id=\"T_cf7bbdf5_f7c3_11ed_955a_e470b809ed67row6_col0\" class=\"data row6 col0\" >0.04</td>\n",
       "                        <td id=\"T_cf7bbdf5_f7c3_11ed_955a_e470b809ed67row6_col1\" class=\"data row6 col1\" >-0.01</td>\n",
       "                        <td id=\"T_cf7bbdf5_f7c3_11ed_955a_e470b809ed67row6_col2\" class=\"data row6 col2\" >0.00</td>\n",
       "                        <td id=\"T_cf7bbdf5_f7c3_11ed_955a_e470b809ed67row6_col3\" class=\"data row6 col3\" >-0.01</td>\n",
       "                        <td id=\"T_cf7bbdf5_f7c3_11ed_955a_e470b809ed67row6_col4\" class=\"data row6 col4\" >-0.01</td>\n",
       "                        <td id=\"T_cf7bbdf5_f7c3_11ed_955a_e470b809ed67row6_col5\" class=\"data row6 col5\" >0.01</td>\n",
       "                        <td id=\"T_cf7bbdf5_f7c3_11ed_955a_e470b809ed67row6_col6\" class=\"data row6 col6\" >1.00</td>\n",
       "                        <td id=\"T_cf7bbdf5_f7c3_11ed_955a_e470b809ed67row6_col7\" class=\"data row6 col7\" >0.01</td>\n",
       "                        <td id=\"T_cf7bbdf5_f7c3_11ed_955a_e470b809ed67row6_col8\" class=\"data row6 col8\" >-0.02</td>\n",
       "                        <td id=\"T_cf7bbdf5_f7c3_11ed_955a_e470b809ed67row6_col9\" class=\"data row6 col9\" >0.01</td>\n",
       "                        <td id=\"T_cf7bbdf5_f7c3_11ed_955a_e470b809ed67row6_col10\" class=\"data row6 col10\" >-0.02</td>\n",
       "                        <td id=\"T_cf7bbdf5_f7c3_11ed_955a_e470b809ed67row6_col11\" class=\"data row6 col11\" >0.02</td>\n",
       "                        <td id=\"T_cf7bbdf5_f7c3_11ed_955a_e470b809ed67row6_col12\" class=\"data row6 col12\" >-0.02</td>\n",
       "                        <td id=\"T_cf7bbdf5_f7c3_11ed_955a_e470b809ed67row6_col13\" class=\"data row6 col13\" >0.02</td>\n",
       "                        <td id=\"T_cf7bbdf5_f7c3_11ed_955a_e470b809ed67row6_col14\" class=\"data row6 col14\" >0.02</td>\n",
       "                        <td id=\"T_cf7bbdf5_f7c3_11ed_955a_e470b809ed67row6_col15\" class=\"data row6 col15\" >0.00</td>\n",
       "                        <td id=\"T_cf7bbdf5_f7c3_11ed_955a_e470b809ed67row6_col16\" class=\"data row6 col16\" >0.02</td>\n",
       "                        <td id=\"T_cf7bbdf5_f7c3_11ed_955a_e470b809ed67row6_col17\" class=\"data row6 col17\" >-0.02</td>\n",
       "                        <td id=\"T_cf7bbdf5_f7c3_11ed_955a_e470b809ed67row6_col18\" class=\"data row6 col18\" >0.02</td>\n",
       "            </tr>\n",
       "            <tr>\n",
       "                        <th id=\"T_cf7bbdf5_f7c3_11ed_955a_e470b809ed67level0_row7\" class=\"row_heading level0 row7\" >total day charge</th>\n",
       "                        <td id=\"T_cf7bbdf5_f7c3_11ed_955a_e470b809ed67row7_col0\" class=\"data row7 col0\" >0.01</td>\n",
       "                        <td id=\"T_cf7bbdf5_f7c3_11ed_955a_e470b809ed67row7_col1\" class=\"data row7 col1\" >-0.01</td>\n",
       "                        <td id=\"T_cf7bbdf5_f7c3_11ed_955a_e470b809ed67row7_col2\" class=\"data row7 col2\" >0.05</td>\n",
       "                        <td id=\"T_cf7bbdf5_f7c3_11ed_955a_e470b809ed67row7_col3\" class=\"data row7 col3\" >-0.00</td>\n",
       "                        <td id=\"T_cf7bbdf5_f7c3_11ed_955a_e470b809ed67row7_col4\" class=\"data row7 col4\" >0.00</td>\n",
       "                        <td id=\"T_cf7bbdf5_f7c3_11ed_955a_e470b809ed67row7_col5\" class=\"data row7 col5\" >1.00</td>\n",
       "                        <td id=\"T_cf7bbdf5_f7c3_11ed_955a_e470b809ed67row7_col6\" class=\"data row7 col6\" >0.01</td>\n",
       "                        <td id=\"T_cf7bbdf5_f7c3_11ed_955a_e470b809ed67row7_col7\" class=\"data row7 col7\" >1.00</td>\n",
       "                        <td id=\"T_cf7bbdf5_f7c3_11ed_955a_e470b809ed67row7_col8\" class=\"data row7 col8\" >0.01</td>\n",
       "                        <td id=\"T_cf7bbdf5_f7c3_11ed_955a_e470b809ed67row7_col9\" class=\"data row7 col9\" >0.02</td>\n",
       "                        <td id=\"T_cf7bbdf5_f7c3_11ed_955a_e470b809ed67row7_col10\" class=\"data row7 col10\" >0.01</td>\n",
       "                        <td id=\"T_cf7bbdf5_f7c3_11ed_955a_e470b809ed67row7_col11\" class=\"data row7 col11\" >0.00</td>\n",
       "                        <td id=\"T_cf7bbdf5_f7c3_11ed_955a_e470b809ed67row7_col12\" class=\"data row7 col12\" >0.02</td>\n",
       "                        <td id=\"T_cf7bbdf5_f7c3_11ed_955a_e470b809ed67row7_col13\" class=\"data row7 col13\" >0.00</td>\n",
       "                        <td id=\"T_cf7bbdf5_f7c3_11ed_955a_e470b809ed67row7_col14\" class=\"data row7 col14\" >-0.01</td>\n",
       "                        <td id=\"T_cf7bbdf5_f7c3_11ed_955a_e470b809ed67row7_col15\" class=\"data row7 col15\" >0.01</td>\n",
       "                        <td id=\"T_cf7bbdf5_f7c3_11ed_955a_e470b809ed67row7_col16\" class=\"data row7 col16\" >-0.01</td>\n",
       "                        <td id=\"T_cf7bbdf5_f7c3_11ed_955a_e470b809ed67row7_col17\" class=\"data row7 col17\" >-0.01</td>\n",
       "                        <td id=\"T_cf7bbdf5_f7c3_11ed_955a_e470b809ed67row7_col18\" class=\"data row7 col18\" >0.21</td>\n",
       "            </tr>\n",
       "            <tr>\n",
       "                        <th id=\"T_cf7bbdf5_f7c3_11ed_955a_e470b809ed67level0_row8\" class=\"row_heading level0 row8\" >total eve minutes</th>\n",
       "                        <td id=\"T_cf7bbdf5_f7c3_11ed_955a_e470b809ed67row8_col0\" class=\"data row8 col0\" >-0.01</td>\n",
       "                        <td id=\"T_cf7bbdf5_f7c3_11ed_955a_e470b809ed67row8_col1\" class=\"data row8 col1\" >0.00</td>\n",
       "                        <td id=\"T_cf7bbdf5_f7c3_11ed_955a_e470b809ed67row8_col2\" class=\"data row8 col2\" >0.02</td>\n",
       "                        <td id=\"T_cf7bbdf5_f7c3_11ed_955a_e470b809ed67row8_col3\" class=\"data row8 col3\" >0.02</td>\n",
       "                        <td id=\"T_cf7bbdf5_f7c3_11ed_955a_e470b809ed67row8_col4\" class=\"data row8 col4\" >0.02</td>\n",
       "                        <td id=\"T_cf7bbdf5_f7c3_11ed_955a_e470b809ed67row8_col5\" class=\"data row8 col5\" >0.01</td>\n",
       "                        <td id=\"T_cf7bbdf5_f7c3_11ed_955a_e470b809ed67row8_col6\" class=\"data row8 col6\" >-0.02</td>\n",
       "                        <td id=\"T_cf7bbdf5_f7c3_11ed_955a_e470b809ed67row8_col7\" class=\"data row8 col7\" >0.01</td>\n",
       "                        <td id=\"T_cf7bbdf5_f7c3_11ed_955a_e470b809ed67row8_col8\" class=\"data row8 col8\" >1.00</td>\n",
       "                        <td id=\"T_cf7bbdf5_f7c3_11ed_955a_e470b809ed67row8_col9\" class=\"data row8 col9\" >-0.01</td>\n",
       "                        <td id=\"T_cf7bbdf5_f7c3_11ed_955a_e470b809ed67row8_col10\" class=\"data row8 col10\" >1.00</td>\n",
       "                        <td id=\"T_cf7bbdf5_f7c3_11ed_955a_e470b809ed67row8_col11\" class=\"data row8 col11\" >-0.01</td>\n",
       "                        <td id=\"T_cf7bbdf5_f7c3_11ed_955a_e470b809ed67row8_col12\" class=\"data row8 col12\" >0.01</td>\n",
       "                        <td id=\"T_cf7bbdf5_f7c3_11ed_955a_e470b809ed67row8_col13\" class=\"data row8 col13\" >-0.01</td>\n",
       "                        <td id=\"T_cf7bbdf5_f7c3_11ed_955a_e470b809ed67row8_col14\" class=\"data row8 col14\" >-0.01</td>\n",
       "                        <td id=\"T_cf7bbdf5_f7c3_11ed_955a_e470b809ed67row8_col15\" class=\"data row8 col15\" >0.00</td>\n",
       "                        <td id=\"T_cf7bbdf5_f7c3_11ed_955a_e470b809ed67row8_col16\" class=\"data row8 col16\" >-0.01</td>\n",
       "                        <td id=\"T_cf7bbdf5_f7c3_11ed_955a_e470b809ed67row8_col17\" class=\"data row8 col17\" >-0.01</td>\n",
       "                        <td id=\"T_cf7bbdf5_f7c3_11ed_955a_e470b809ed67row8_col18\" class=\"data row8 col18\" >0.09</td>\n",
       "            </tr>\n",
       "            <tr>\n",
       "                        <th id=\"T_cf7bbdf5_f7c3_11ed_955a_e470b809ed67level0_row9\" class=\"row_heading level0 row9\" >total eve calls</th>\n",
       "                        <td id=\"T_cf7bbdf5_f7c3_11ed_955a_e470b809ed67row9_col0\" class=\"data row9 col0\" >0.02</td>\n",
       "                        <td id=\"T_cf7bbdf5_f7c3_11ed_955a_e470b809ed67row9_col1\" class=\"data row9 col1\" >-0.01</td>\n",
       "                        <td id=\"T_cf7bbdf5_f7c3_11ed_955a_e470b809ed67row9_col2\" class=\"data row9 col2\" >0.01</td>\n",
       "                        <td id=\"T_cf7bbdf5_f7c3_11ed_955a_e470b809ed67row9_col3\" class=\"data row9 col3\" >-0.01</td>\n",
       "                        <td id=\"T_cf7bbdf5_f7c3_11ed_955a_e470b809ed67row9_col4\" class=\"data row9 col4\" >-0.01</td>\n",
       "                        <td id=\"T_cf7bbdf5_f7c3_11ed_955a_e470b809ed67row9_col5\" class=\"data row9 col5\" >0.02</td>\n",
       "                        <td id=\"T_cf7bbdf5_f7c3_11ed_955a_e470b809ed67row9_col6\" class=\"data row9 col6\" >0.01</td>\n",
       "                        <td id=\"T_cf7bbdf5_f7c3_11ed_955a_e470b809ed67row9_col7\" class=\"data row9 col7\" >0.02</td>\n",
       "                        <td id=\"T_cf7bbdf5_f7c3_11ed_955a_e470b809ed67row9_col8\" class=\"data row9 col8\" >-0.01</td>\n",
       "                        <td id=\"T_cf7bbdf5_f7c3_11ed_955a_e470b809ed67row9_col9\" class=\"data row9 col9\" >1.00</td>\n",
       "                        <td id=\"T_cf7bbdf5_f7c3_11ed_955a_e470b809ed67row9_col10\" class=\"data row9 col10\" >-0.01</td>\n",
       "                        <td id=\"T_cf7bbdf5_f7c3_11ed_955a_e470b809ed67row9_col11\" class=\"data row9 col11\" >-0.00</td>\n",
       "                        <td id=\"T_cf7bbdf5_f7c3_11ed_955a_e470b809ed67row9_col12\" class=\"data row9 col12\" >0.01</td>\n",
       "                        <td id=\"T_cf7bbdf5_f7c3_11ed_955a_e470b809ed67row9_col13\" class=\"data row9 col13\" >-0.00</td>\n",
       "                        <td id=\"T_cf7bbdf5_f7c3_11ed_955a_e470b809ed67row9_col14\" class=\"data row9 col14\" >0.01</td>\n",
       "                        <td id=\"T_cf7bbdf5_f7c3_11ed_955a_e470b809ed67row9_col15\" class=\"data row9 col15\" >0.02</td>\n",
       "                        <td id=\"T_cf7bbdf5_f7c3_11ed_955a_e470b809ed67row9_col16\" class=\"data row9 col16\" >0.01</td>\n",
       "                        <td id=\"T_cf7bbdf5_f7c3_11ed_955a_e470b809ed67row9_col17\" class=\"data row9 col17\" >0.00</td>\n",
       "                        <td id=\"T_cf7bbdf5_f7c3_11ed_955a_e470b809ed67row9_col18\" class=\"data row9 col18\" >0.01</td>\n",
       "            </tr>\n",
       "            <tr>\n",
       "                        <th id=\"T_cf7bbdf5_f7c3_11ed_955a_e470b809ed67level0_row10\" class=\"row_heading level0 row10\" >total eve charge</th>\n",
       "                        <td id=\"T_cf7bbdf5_f7c3_11ed_955a_e470b809ed67row10_col0\" class=\"data row10 col0\" >-0.01</td>\n",
       "                        <td id=\"T_cf7bbdf5_f7c3_11ed_955a_e470b809ed67row10_col1\" class=\"data row10 col1\" >0.00</td>\n",
       "                        <td id=\"T_cf7bbdf5_f7c3_11ed_955a_e470b809ed67row10_col2\" class=\"data row10 col2\" >0.02</td>\n",
       "                        <td id=\"T_cf7bbdf5_f7c3_11ed_955a_e470b809ed67row10_col3\" class=\"data row10 col3\" >0.02</td>\n",
       "                        <td id=\"T_cf7bbdf5_f7c3_11ed_955a_e470b809ed67row10_col4\" class=\"data row10 col4\" >0.02</td>\n",
       "                        <td id=\"T_cf7bbdf5_f7c3_11ed_955a_e470b809ed67row10_col5\" class=\"data row10 col5\" >0.01</td>\n",
       "                        <td id=\"T_cf7bbdf5_f7c3_11ed_955a_e470b809ed67row10_col6\" class=\"data row10 col6\" >-0.02</td>\n",
       "                        <td id=\"T_cf7bbdf5_f7c3_11ed_955a_e470b809ed67row10_col7\" class=\"data row10 col7\" >0.01</td>\n",
       "                        <td id=\"T_cf7bbdf5_f7c3_11ed_955a_e470b809ed67row10_col8\" class=\"data row10 col8\" >1.00</td>\n",
       "                        <td id=\"T_cf7bbdf5_f7c3_11ed_955a_e470b809ed67row10_col9\" class=\"data row10 col9\" >-0.01</td>\n",
       "                        <td id=\"T_cf7bbdf5_f7c3_11ed_955a_e470b809ed67row10_col10\" class=\"data row10 col10\" >1.00</td>\n",
       "                        <td id=\"T_cf7bbdf5_f7c3_11ed_955a_e470b809ed67row10_col11\" class=\"data row10 col11\" >-0.01</td>\n",
       "                        <td id=\"T_cf7bbdf5_f7c3_11ed_955a_e470b809ed67row10_col12\" class=\"data row10 col12\" >0.01</td>\n",
       "                        <td id=\"T_cf7bbdf5_f7c3_11ed_955a_e470b809ed67row10_col13\" class=\"data row10 col13\" >-0.01</td>\n",
       "                        <td id=\"T_cf7bbdf5_f7c3_11ed_955a_e470b809ed67row10_col14\" class=\"data row10 col14\" >-0.01</td>\n",
       "                        <td id=\"T_cf7bbdf5_f7c3_11ed_955a_e470b809ed67row10_col15\" class=\"data row10 col15\" >0.00</td>\n",
       "                        <td id=\"T_cf7bbdf5_f7c3_11ed_955a_e470b809ed67row10_col16\" class=\"data row10 col16\" >-0.01</td>\n",
       "                        <td id=\"T_cf7bbdf5_f7c3_11ed_955a_e470b809ed67row10_col17\" class=\"data row10 col17\" >-0.01</td>\n",
       "                        <td id=\"T_cf7bbdf5_f7c3_11ed_955a_e470b809ed67row10_col18\" class=\"data row10 col18\" >0.09</td>\n",
       "            </tr>\n",
       "            <tr>\n",
       "                        <th id=\"T_cf7bbdf5_f7c3_11ed_955a_e470b809ed67level0_row11\" class=\"row_heading level0 row11\" >total night minutes</th>\n",
       "                        <td id=\"T_cf7bbdf5_f7c3_11ed_955a_e470b809ed67row11_col0\" class=\"data row11 col0\" >-0.01</td>\n",
       "                        <td id=\"T_cf7bbdf5_f7c3_11ed_955a_e470b809ed67row11_col1\" class=\"data row11 col1\" >-0.01</td>\n",
       "                        <td id=\"T_cf7bbdf5_f7c3_11ed_955a_e470b809ed67row11_col2\" class=\"data row11 col2\" >-0.03</td>\n",
       "                        <td id=\"T_cf7bbdf5_f7c3_11ed_955a_e470b809ed67row11_col3\" class=\"data row11 col3\" >0.01</td>\n",
       "                        <td id=\"T_cf7bbdf5_f7c3_11ed_955a_e470b809ed67row11_col4\" class=\"data row11 col4\" >0.01</td>\n",
       "                        <td id=\"T_cf7bbdf5_f7c3_11ed_955a_e470b809ed67row11_col5\" class=\"data row11 col5\" >0.00</td>\n",
       "                        <td id=\"T_cf7bbdf5_f7c3_11ed_955a_e470b809ed67row11_col6\" class=\"data row11 col6\" >0.02</td>\n",
       "                        <td id=\"T_cf7bbdf5_f7c3_11ed_955a_e470b809ed67row11_col7\" class=\"data row11 col7\" >0.00</td>\n",
       "                        <td id=\"T_cf7bbdf5_f7c3_11ed_955a_e470b809ed67row11_col8\" class=\"data row11 col8\" >-0.01</td>\n",
       "                        <td id=\"T_cf7bbdf5_f7c3_11ed_955a_e470b809ed67row11_col9\" class=\"data row11 col9\" >-0.00</td>\n",
       "                        <td id=\"T_cf7bbdf5_f7c3_11ed_955a_e470b809ed67row11_col10\" class=\"data row11 col10\" >-0.01</td>\n",
       "                        <td id=\"T_cf7bbdf5_f7c3_11ed_955a_e470b809ed67row11_col11\" class=\"data row11 col11\" >1.00</td>\n",
       "                        <td id=\"T_cf7bbdf5_f7c3_11ed_955a_e470b809ed67row11_col12\" class=\"data row11 col12\" >0.01</td>\n",
       "                        <td id=\"T_cf7bbdf5_f7c3_11ed_955a_e470b809ed67row11_col13\" class=\"data row11 col13\" >1.00</td>\n",
       "                        <td id=\"T_cf7bbdf5_f7c3_11ed_955a_e470b809ed67row11_col14\" class=\"data row11 col14\" >-0.02</td>\n",
       "                        <td id=\"T_cf7bbdf5_f7c3_11ed_955a_e470b809ed67row11_col15\" class=\"data row11 col15\" >-0.01</td>\n",
       "                        <td id=\"T_cf7bbdf5_f7c3_11ed_955a_e470b809ed67row11_col16\" class=\"data row11 col16\" >-0.02</td>\n",
       "                        <td id=\"T_cf7bbdf5_f7c3_11ed_955a_e470b809ed67row11_col17\" class=\"data row11 col17\" >-0.01</td>\n",
       "                        <td id=\"T_cf7bbdf5_f7c3_11ed_955a_e470b809ed67row11_col18\" class=\"data row11 col18\" >0.04</td>\n",
       "            </tr>\n",
       "            <tr>\n",
       "                        <th id=\"T_cf7bbdf5_f7c3_11ed_955a_e470b809ed67level0_row12\" class=\"row_heading level0 row12\" >total night calls</th>\n",
       "                        <td id=\"T_cf7bbdf5_f7c3_11ed_955a_e470b809ed67row12_col0\" class=\"data row12 col0\" >-0.01</td>\n",
       "                        <td id=\"T_cf7bbdf5_f7c3_11ed_955a_e470b809ed67row12_col1\" class=\"data row12 col1\" >0.02</td>\n",
       "                        <td id=\"T_cf7bbdf5_f7c3_11ed_955a_e470b809ed67row12_col2\" class=\"data row12 col2\" >0.01</td>\n",
       "                        <td id=\"T_cf7bbdf5_f7c3_11ed_955a_e470b809ed67row12_col3\" class=\"data row12 col3\" >0.02</td>\n",
       "                        <td id=\"T_cf7bbdf5_f7c3_11ed_955a_e470b809ed67row12_col4\" class=\"data row12 col4\" >0.01</td>\n",
       "                        <td id=\"T_cf7bbdf5_f7c3_11ed_955a_e470b809ed67row12_col5\" class=\"data row12 col5\" >0.02</td>\n",
       "                        <td id=\"T_cf7bbdf5_f7c3_11ed_955a_e470b809ed67row12_col6\" class=\"data row12 col6\" >-0.02</td>\n",
       "                        <td id=\"T_cf7bbdf5_f7c3_11ed_955a_e470b809ed67row12_col7\" class=\"data row12 col7\" >0.02</td>\n",
       "                        <td id=\"T_cf7bbdf5_f7c3_11ed_955a_e470b809ed67row12_col8\" class=\"data row12 col8\" >0.01</td>\n",
       "                        <td id=\"T_cf7bbdf5_f7c3_11ed_955a_e470b809ed67row12_col9\" class=\"data row12 col9\" >0.01</td>\n",
       "                        <td id=\"T_cf7bbdf5_f7c3_11ed_955a_e470b809ed67row12_col10\" class=\"data row12 col10\" >0.01</td>\n",
       "                        <td id=\"T_cf7bbdf5_f7c3_11ed_955a_e470b809ed67row12_col11\" class=\"data row12 col11\" >0.01</td>\n",
       "                        <td id=\"T_cf7bbdf5_f7c3_11ed_955a_e470b809ed67row12_col12\" class=\"data row12 col12\" >1.00</td>\n",
       "                        <td id=\"T_cf7bbdf5_f7c3_11ed_955a_e470b809ed67row12_col13\" class=\"data row12 col13\" >0.01</td>\n",
       "                        <td id=\"T_cf7bbdf5_f7c3_11ed_955a_e470b809ed67row12_col14\" class=\"data row12 col14\" >-0.01</td>\n",
       "                        <td id=\"T_cf7bbdf5_f7c3_11ed_955a_e470b809ed67row12_col15\" class=\"data row12 col15\" >0.00</td>\n",
       "                        <td id=\"T_cf7bbdf5_f7c3_11ed_955a_e470b809ed67row12_col16\" class=\"data row12 col16\" >-0.01</td>\n",
       "                        <td id=\"T_cf7bbdf5_f7c3_11ed_955a_e470b809ed67row12_col17\" class=\"data row12 col17\" >-0.01</td>\n",
       "                        <td id=\"T_cf7bbdf5_f7c3_11ed_955a_e470b809ed67row12_col18\" class=\"data row12 col18\" >0.01</td>\n",
       "            </tr>\n",
       "            <tr>\n",
       "                        <th id=\"T_cf7bbdf5_f7c3_11ed_955a_e470b809ed67level0_row13\" class=\"row_heading level0 row13\" >total night charge</th>\n",
       "                        <td id=\"T_cf7bbdf5_f7c3_11ed_955a_e470b809ed67row13_col0\" class=\"data row13 col0\" >-0.01</td>\n",
       "                        <td id=\"T_cf7bbdf5_f7c3_11ed_955a_e470b809ed67row13_col1\" class=\"data row13 col1\" >-0.01</td>\n",
       "                        <td id=\"T_cf7bbdf5_f7c3_11ed_955a_e470b809ed67row13_col2\" class=\"data row13 col2\" >-0.03</td>\n",
       "                        <td id=\"T_cf7bbdf5_f7c3_11ed_955a_e470b809ed67row13_col3\" class=\"data row13 col3\" >0.01</td>\n",
       "                        <td id=\"T_cf7bbdf5_f7c3_11ed_955a_e470b809ed67row13_col4\" class=\"data row13 col4\" >0.01</td>\n",
       "                        <td id=\"T_cf7bbdf5_f7c3_11ed_955a_e470b809ed67row13_col5\" class=\"data row13 col5\" >0.00</td>\n",
       "                        <td id=\"T_cf7bbdf5_f7c3_11ed_955a_e470b809ed67row13_col6\" class=\"data row13 col6\" >0.02</td>\n",
       "                        <td id=\"T_cf7bbdf5_f7c3_11ed_955a_e470b809ed67row13_col7\" class=\"data row13 col7\" >0.00</td>\n",
       "                        <td id=\"T_cf7bbdf5_f7c3_11ed_955a_e470b809ed67row13_col8\" class=\"data row13 col8\" >-0.01</td>\n",
       "                        <td id=\"T_cf7bbdf5_f7c3_11ed_955a_e470b809ed67row13_col9\" class=\"data row13 col9\" >-0.00</td>\n",
       "                        <td id=\"T_cf7bbdf5_f7c3_11ed_955a_e470b809ed67row13_col10\" class=\"data row13 col10\" >-0.01</td>\n",
       "                        <td id=\"T_cf7bbdf5_f7c3_11ed_955a_e470b809ed67row13_col11\" class=\"data row13 col11\" >1.00</td>\n",
       "                        <td id=\"T_cf7bbdf5_f7c3_11ed_955a_e470b809ed67row13_col12\" class=\"data row13 col12\" >0.01</td>\n",
       "                        <td id=\"T_cf7bbdf5_f7c3_11ed_955a_e470b809ed67row13_col13\" class=\"data row13 col13\" >1.00</td>\n",
       "                        <td id=\"T_cf7bbdf5_f7c3_11ed_955a_e470b809ed67row13_col14\" class=\"data row13 col14\" >-0.02</td>\n",
       "                        <td id=\"T_cf7bbdf5_f7c3_11ed_955a_e470b809ed67row13_col15\" class=\"data row13 col15\" >-0.01</td>\n",
       "                        <td id=\"T_cf7bbdf5_f7c3_11ed_955a_e470b809ed67row13_col16\" class=\"data row13 col16\" >-0.02</td>\n",
       "                        <td id=\"T_cf7bbdf5_f7c3_11ed_955a_e470b809ed67row13_col17\" class=\"data row13 col17\" >-0.01</td>\n",
       "                        <td id=\"T_cf7bbdf5_f7c3_11ed_955a_e470b809ed67row13_col18\" class=\"data row13 col18\" >0.04</td>\n",
       "            </tr>\n",
       "            <tr>\n",
       "                        <th id=\"T_cf7bbdf5_f7c3_11ed_955a_e470b809ed67level0_row14\" class=\"row_heading level0 row14\" >total intl minutes</th>\n",
       "                        <td id=\"T_cf7bbdf5_f7c3_11ed_955a_e470b809ed67row14_col0\" class=\"data row14 col0\" >0.01</td>\n",
       "                        <td id=\"T_cf7bbdf5_f7c3_11ed_955a_e470b809ed67row14_col1\" class=\"data row14 col1\" >-0.02</td>\n",
       "                        <td id=\"T_cf7bbdf5_f7c3_11ed_955a_e470b809ed67row14_col2\" class=\"data row14 col2\" >0.05</td>\n",
       "                        <td id=\"T_cf7bbdf5_f7c3_11ed_955a_e470b809ed67row14_col3\" class=\"data row14 col3\" >-0.00</td>\n",
       "                        <td id=\"T_cf7bbdf5_f7c3_11ed_955a_e470b809ed67row14_col4\" class=\"data row14 col4\" >0.00</td>\n",
       "                        <td id=\"T_cf7bbdf5_f7c3_11ed_955a_e470b809ed67row14_col5\" class=\"data row14 col5\" >-0.01</td>\n",
       "                        <td id=\"T_cf7bbdf5_f7c3_11ed_955a_e470b809ed67row14_col6\" class=\"data row14 col6\" >0.02</td>\n",
       "                        <td id=\"T_cf7bbdf5_f7c3_11ed_955a_e470b809ed67row14_col7\" class=\"data row14 col7\" >-0.01</td>\n",
       "                        <td id=\"T_cf7bbdf5_f7c3_11ed_955a_e470b809ed67row14_col8\" class=\"data row14 col8\" >-0.01</td>\n",
       "                        <td id=\"T_cf7bbdf5_f7c3_11ed_955a_e470b809ed67row14_col9\" class=\"data row14 col9\" >0.01</td>\n",
       "                        <td id=\"T_cf7bbdf5_f7c3_11ed_955a_e470b809ed67row14_col10\" class=\"data row14 col10\" >-0.01</td>\n",
       "                        <td id=\"T_cf7bbdf5_f7c3_11ed_955a_e470b809ed67row14_col11\" class=\"data row14 col11\" >-0.02</td>\n",
       "                        <td id=\"T_cf7bbdf5_f7c3_11ed_955a_e470b809ed67row14_col12\" class=\"data row14 col12\" >-0.01</td>\n",
       "                        <td id=\"T_cf7bbdf5_f7c3_11ed_955a_e470b809ed67row14_col13\" class=\"data row14 col13\" >-0.02</td>\n",
       "                        <td id=\"T_cf7bbdf5_f7c3_11ed_955a_e470b809ed67row14_col14\" class=\"data row14 col14\" >1.00</td>\n",
       "                        <td id=\"T_cf7bbdf5_f7c3_11ed_955a_e470b809ed67row14_col15\" class=\"data row14 col15\" >0.03</td>\n",
       "                        <td id=\"T_cf7bbdf5_f7c3_11ed_955a_e470b809ed67row14_col16\" class=\"data row14 col16\" >1.00</td>\n",
       "                        <td id=\"T_cf7bbdf5_f7c3_11ed_955a_e470b809ed67row14_col17\" class=\"data row14 col17\" >-0.01</td>\n",
       "                        <td id=\"T_cf7bbdf5_f7c3_11ed_955a_e470b809ed67row14_col18\" class=\"data row14 col18\" >0.07</td>\n",
       "            </tr>\n",
       "            <tr>\n",
       "                        <th id=\"T_cf7bbdf5_f7c3_11ed_955a_e470b809ed67level0_row15\" class=\"row_heading level0 row15\" >total intl calls</th>\n",
       "                        <td id=\"T_cf7bbdf5_f7c3_11ed_955a_e470b809ed67row15_col0\" class=\"data row15 col0\" >0.02</td>\n",
       "                        <td id=\"T_cf7bbdf5_f7c3_11ed_955a_e470b809ed67row15_col1\" class=\"data row15 col1\" >-0.02</td>\n",
       "                        <td id=\"T_cf7bbdf5_f7c3_11ed_955a_e470b809ed67row15_col2\" class=\"data row15 col2\" >0.02</td>\n",
       "                        <td id=\"T_cf7bbdf5_f7c3_11ed_955a_e470b809ed67row15_col3\" class=\"data row15 col3\" >0.01</td>\n",
       "                        <td id=\"T_cf7bbdf5_f7c3_11ed_955a_e470b809ed67row15_col4\" class=\"data row15 col4\" >0.01</td>\n",
       "                        <td id=\"T_cf7bbdf5_f7c3_11ed_955a_e470b809ed67row15_col5\" class=\"data row15 col5\" >0.01</td>\n",
       "                        <td id=\"T_cf7bbdf5_f7c3_11ed_955a_e470b809ed67row15_col6\" class=\"data row15 col6\" >0.00</td>\n",
       "                        <td id=\"T_cf7bbdf5_f7c3_11ed_955a_e470b809ed67row15_col7\" class=\"data row15 col7\" >0.01</td>\n",
       "                        <td id=\"T_cf7bbdf5_f7c3_11ed_955a_e470b809ed67row15_col8\" class=\"data row15 col8\" >0.00</td>\n",
       "                        <td id=\"T_cf7bbdf5_f7c3_11ed_955a_e470b809ed67row15_col9\" class=\"data row15 col9\" >0.02</td>\n",
       "                        <td id=\"T_cf7bbdf5_f7c3_11ed_955a_e470b809ed67row15_col10\" class=\"data row15 col10\" >0.00</td>\n",
       "                        <td id=\"T_cf7bbdf5_f7c3_11ed_955a_e470b809ed67row15_col11\" class=\"data row15 col11\" >-0.01</td>\n",
       "                        <td id=\"T_cf7bbdf5_f7c3_11ed_955a_e470b809ed67row15_col12\" class=\"data row15 col12\" >0.00</td>\n",
       "                        <td id=\"T_cf7bbdf5_f7c3_11ed_955a_e470b809ed67row15_col13\" class=\"data row15 col13\" >-0.01</td>\n",
       "                        <td id=\"T_cf7bbdf5_f7c3_11ed_955a_e470b809ed67row15_col14\" class=\"data row15 col14\" >0.03</td>\n",
       "                        <td id=\"T_cf7bbdf5_f7c3_11ed_955a_e470b809ed67row15_col15\" class=\"data row15 col15\" >1.00</td>\n",
       "                        <td id=\"T_cf7bbdf5_f7c3_11ed_955a_e470b809ed67row15_col16\" class=\"data row15 col16\" >0.03</td>\n",
       "                        <td id=\"T_cf7bbdf5_f7c3_11ed_955a_e470b809ed67row15_col17\" class=\"data row15 col17\" >-0.02</td>\n",
       "                        <td id=\"T_cf7bbdf5_f7c3_11ed_955a_e470b809ed67row15_col18\" class=\"data row15 col18\" >-0.05</td>\n",
       "            </tr>\n",
       "            <tr>\n",
       "                        <th id=\"T_cf7bbdf5_f7c3_11ed_955a_e470b809ed67level0_row16\" class=\"row_heading level0 row16\" >total intl charge</th>\n",
       "                        <td id=\"T_cf7bbdf5_f7c3_11ed_955a_e470b809ed67row16_col0\" class=\"data row16 col0\" >0.01</td>\n",
       "                        <td id=\"T_cf7bbdf5_f7c3_11ed_955a_e470b809ed67row16_col1\" class=\"data row16 col1\" >-0.02</td>\n",
       "                        <td id=\"T_cf7bbdf5_f7c3_11ed_955a_e470b809ed67row16_col2\" class=\"data row16 col2\" >0.05</td>\n",
       "                        <td id=\"T_cf7bbdf5_f7c3_11ed_955a_e470b809ed67row16_col3\" class=\"data row16 col3\" >-0.00</td>\n",
       "                        <td id=\"T_cf7bbdf5_f7c3_11ed_955a_e470b809ed67row16_col4\" class=\"data row16 col4\" >0.00</td>\n",
       "                        <td id=\"T_cf7bbdf5_f7c3_11ed_955a_e470b809ed67row16_col5\" class=\"data row16 col5\" >-0.01</td>\n",
       "                        <td id=\"T_cf7bbdf5_f7c3_11ed_955a_e470b809ed67row16_col6\" class=\"data row16 col6\" >0.02</td>\n",
       "                        <td id=\"T_cf7bbdf5_f7c3_11ed_955a_e470b809ed67row16_col7\" class=\"data row16 col7\" >-0.01</td>\n",
       "                        <td id=\"T_cf7bbdf5_f7c3_11ed_955a_e470b809ed67row16_col8\" class=\"data row16 col8\" >-0.01</td>\n",
       "                        <td id=\"T_cf7bbdf5_f7c3_11ed_955a_e470b809ed67row16_col9\" class=\"data row16 col9\" >0.01</td>\n",
       "                        <td id=\"T_cf7bbdf5_f7c3_11ed_955a_e470b809ed67row16_col10\" class=\"data row16 col10\" >-0.01</td>\n",
       "                        <td id=\"T_cf7bbdf5_f7c3_11ed_955a_e470b809ed67row16_col11\" class=\"data row16 col11\" >-0.02</td>\n",
       "                        <td id=\"T_cf7bbdf5_f7c3_11ed_955a_e470b809ed67row16_col12\" class=\"data row16 col12\" >-0.01</td>\n",
       "                        <td id=\"T_cf7bbdf5_f7c3_11ed_955a_e470b809ed67row16_col13\" class=\"data row16 col13\" >-0.02</td>\n",
       "                        <td id=\"T_cf7bbdf5_f7c3_11ed_955a_e470b809ed67row16_col14\" class=\"data row16 col14\" >1.00</td>\n",
       "                        <td id=\"T_cf7bbdf5_f7c3_11ed_955a_e470b809ed67row16_col15\" class=\"data row16 col15\" >0.03</td>\n",
       "                        <td id=\"T_cf7bbdf5_f7c3_11ed_955a_e470b809ed67row16_col16\" class=\"data row16 col16\" >1.00</td>\n",
       "                        <td id=\"T_cf7bbdf5_f7c3_11ed_955a_e470b809ed67row16_col17\" class=\"data row16 col17\" >-0.01</td>\n",
       "                        <td id=\"T_cf7bbdf5_f7c3_11ed_955a_e470b809ed67row16_col18\" class=\"data row16 col18\" >0.07</td>\n",
       "            </tr>\n",
       "            <tr>\n",
       "                        <th id=\"T_cf7bbdf5_f7c3_11ed_955a_e470b809ed67level0_row17\" class=\"row_heading level0 row17\" >customer service calls</th>\n",
       "                        <td id=\"T_cf7bbdf5_f7c3_11ed_955a_e470b809ed67row17_col0\" class=\"data row17 col0\" >-0.00</td>\n",
       "                        <td id=\"T_cf7bbdf5_f7c3_11ed_955a_e470b809ed67row17_col1\" class=\"data row17 col1\" >0.03</td>\n",
       "                        <td id=\"T_cf7bbdf5_f7c3_11ed_955a_e470b809ed67row17_col2\" class=\"data row17 col2\" >-0.02</td>\n",
       "                        <td id=\"T_cf7bbdf5_f7c3_11ed_955a_e470b809ed67row17_col3\" class=\"data row17 col3\" >-0.02</td>\n",
       "                        <td id=\"T_cf7bbdf5_f7c3_11ed_955a_e470b809ed67row17_col4\" class=\"data row17 col4\" >-0.01</td>\n",
       "                        <td id=\"T_cf7bbdf5_f7c3_11ed_955a_e470b809ed67row17_col5\" class=\"data row17 col5\" >-0.01</td>\n",
       "                        <td id=\"T_cf7bbdf5_f7c3_11ed_955a_e470b809ed67row17_col6\" class=\"data row17 col6\" >-0.02</td>\n",
       "                        <td id=\"T_cf7bbdf5_f7c3_11ed_955a_e470b809ed67row17_col7\" class=\"data row17 col7\" >-0.01</td>\n",
       "                        <td id=\"T_cf7bbdf5_f7c3_11ed_955a_e470b809ed67row17_col8\" class=\"data row17 col8\" >-0.01</td>\n",
       "                        <td id=\"T_cf7bbdf5_f7c3_11ed_955a_e470b809ed67row17_col9\" class=\"data row17 col9\" >0.00</td>\n",
       "                        <td id=\"T_cf7bbdf5_f7c3_11ed_955a_e470b809ed67row17_col10\" class=\"data row17 col10\" >-0.01</td>\n",
       "                        <td id=\"T_cf7bbdf5_f7c3_11ed_955a_e470b809ed67row17_col11\" class=\"data row17 col11\" >-0.01</td>\n",
       "                        <td id=\"T_cf7bbdf5_f7c3_11ed_955a_e470b809ed67row17_col12\" class=\"data row17 col12\" >-0.01</td>\n",
       "                        <td id=\"T_cf7bbdf5_f7c3_11ed_955a_e470b809ed67row17_col13\" class=\"data row17 col13\" >-0.01</td>\n",
       "                        <td id=\"T_cf7bbdf5_f7c3_11ed_955a_e470b809ed67row17_col14\" class=\"data row17 col14\" >-0.01</td>\n",
       "                        <td id=\"T_cf7bbdf5_f7c3_11ed_955a_e470b809ed67row17_col15\" class=\"data row17 col15\" >-0.02</td>\n",
       "                        <td id=\"T_cf7bbdf5_f7c3_11ed_955a_e470b809ed67row17_col16\" class=\"data row17 col16\" >-0.01</td>\n",
       "                        <td id=\"T_cf7bbdf5_f7c3_11ed_955a_e470b809ed67row17_col17\" class=\"data row17 col17\" >1.00</td>\n",
       "                        <td id=\"T_cf7bbdf5_f7c3_11ed_955a_e470b809ed67row17_col18\" class=\"data row17 col18\" >0.21</td>\n",
       "            </tr>\n",
       "            <tr>\n",
       "                        <th id=\"T_cf7bbdf5_f7c3_11ed_955a_e470b809ed67level0_row18\" class=\"row_heading level0 row18\" >churn</th>\n",
       "                        <td id=\"T_cf7bbdf5_f7c3_11ed_955a_e470b809ed67row18_col0\" class=\"data row18 col0\" >0.02</td>\n",
       "                        <td id=\"T_cf7bbdf5_f7c3_11ed_955a_e470b809ed67row18_col1\" class=\"data row18 col1\" >0.01</td>\n",
       "                        <td id=\"T_cf7bbdf5_f7c3_11ed_955a_e470b809ed67row18_col2\" class=\"data row18 col2\" >0.26</td>\n",
       "                        <td id=\"T_cf7bbdf5_f7c3_11ed_955a_e470b809ed67row18_col3\" class=\"data row18 col3\" >-0.10</td>\n",
       "                        <td id=\"T_cf7bbdf5_f7c3_11ed_955a_e470b809ed67row18_col4\" class=\"data row18 col4\" >-0.09</td>\n",
       "                        <td id=\"T_cf7bbdf5_f7c3_11ed_955a_e470b809ed67row18_col5\" class=\"data row18 col5\" >0.21</td>\n",
       "                        <td id=\"T_cf7bbdf5_f7c3_11ed_955a_e470b809ed67row18_col6\" class=\"data row18 col6\" >0.02</td>\n",
       "                        <td id=\"T_cf7bbdf5_f7c3_11ed_955a_e470b809ed67row18_col7\" class=\"data row18 col7\" >0.21</td>\n",
       "                        <td id=\"T_cf7bbdf5_f7c3_11ed_955a_e470b809ed67row18_col8\" class=\"data row18 col8\" >0.09</td>\n",
       "                        <td id=\"T_cf7bbdf5_f7c3_11ed_955a_e470b809ed67row18_col9\" class=\"data row18 col9\" >0.01</td>\n",
       "                        <td id=\"T_cf7bbdf5_f7c3_11ed_955a_e470b809ed67row18_col10\" class=\"data row18 col10\" >0.09</td>\n",
       "                        <td id=\"T_cf7bbdf5_f7c3_11ed_955a_e470b809ed67row18_col11\" class=\"data row18 col11\" >0.04</td>\n",
       "                        <td id=\"T_cf7bbdf5_f7c3_11ed_955a_e470b809ed67row18_col12\" class=\"data row18 col12\" >0.01</td>\n",
       "                        <td id=\"T_cf7bbdf5_f7c3_11ed_955a_e470b809ed67row18_col13\" class=\"data row18 col13\" >0.04</td>\n",
       "                        <td id=\"T_cf7bbdf5_f7c3_11ed_955a_e470b809ed67row18_col14\" class=\"data row18 col14\" >0.07</td>\n",
       "                        <td id=\"T_cf7bbdf5_f7c3_11ed_955a_e470b809ed67row18_col15\" class=\"data row18 col15\" >-0.05</td>\n",
       "                        <td id=\"T_cf7bbdf5_f7c3_11ed_955a_e470b809ed67row18_col16\" class=\"data row18 col16\" >0.07</td>\n",
       "                        <td id=\"T_cf7bbdf5_f7c3_11ed_955a_e470b809ed67row18_col17\" class=\"data row18 col17\" >0.21</td>\n",
       "                        <td id=\"T_cf7bbdf5_f7c3_11ed_955a_e470b809ed67row18_col18\" class=\"data row18 col18\" >1.00</td>\n",
       "            </tr>\n",
       "    </tbody></table>"
      ],
      "text/plain": [
       "<pandas.io.formats.style.Styler at 0x29b89277b80>"
      ]
     },
     "execution_count": 24,
     "metadata": {},
     "output_type": "execute_result"
    }
   ],
   "source": [
    "#plot correlation heatmap\n",
    "data_correlation = data.corr().style.background_gradient(cmap='coolwarm').set_precision(2)\n",
    "# convert all features that have a correlation to price of more than 0.3\n",
    "data_correlation"
   ]
  },
  {
   "attachments": {},
   "cell_type": "markdown",
   "metadata": {},
   "source": [
    "* You can see here that all *_minutes and *_charge features are perfectly correlated (r = 1). This is to be expected since charge is usually based on minutes. For this reason, we may not need to include both the charge and minutes columns, but rather choose just one. We might also choose to aggregate all the day/eve/night columns into one 'total' column. As mentioned earlier, for a first simple model, we will leave the features as is, but for later iterations we might choose to aggregate and drop these.\n",
    "\n",
    " "
   ]
  },
  {
   "cell_type": "code",
   "execution_count": 25,
   "metadata": {},
   "outputs": [
    {
     "data": {
      "image/png": "[encoded data removed]",
      "text/plain": [
       "<Figure size 864x432 with 6 Axes>"
      ]
     },
     "metadata": {
      "needs_background": "light"
     },
     "output_type": "display_data"
    }
   ],
   "source": [
    "# Create a histogram for each numerical column, grouped by the churn status\n",
    "fig, axes = plt.subplots(nrows=1, ncols=len(num_cols), figsize=(12, 6))\n",
    "for i, col in enumerate(num_cols):\n",
    "    data_churn = data[data[\"churn\"] == 1][col]\n",
    "    data_no_churn = data[data[\"churn\"] == 0][col]\n",
    "    axes[i].hist(data_churn, alpha=0.5, label=\"Churn\", bins=20)\n",
    "    axes[i].hist(data_no_churn, alpha=0.5, label=\"No churn\", bins=20)\n",
    "    axes[i].set_title(col)\n",
    "    axes[i].legend()\n",
    "\n",
    "plt.show()"
   ]
  },
  {
   "attachments": {},
   "cell_type": "markdown",
   "metadata": {},
   "source": [
    "* The histograms suggest that the \"total day minutes\", \"total night charge\", \"total intl minutes\", and \"total intl calls\" features may be strong predictors of churn, as there is a clear difference in their distributions between churned and non-churned customers. The \"total night calls\" and \"total day calls\" features may also be somewhat predictive of churn, although the differences in their distributions between the two groups are less pronounced."
   ]
  },
  {
   "attachments": {},
   "cell_type": "markdown",
   "metadata": {},
   "source": [
    "####histogram for categorical"
   ]
  },
  {
   "attachments": {},
   "cell_type": "markdown",
   "metadata": {},
   "source": [
    "### MODELING"
   ]
  },
  {
   "attachments": {},
   "cell_type": "markdown",
   "metadata": {},
   "source": [
    "* Baseline model"
   ]
  },
  {
   "cell_type": "code",
   "execution_count": 26,
   "metadata": {},
   "outputs": [],
   "source": [
    "\n",
    "X=data.drop([\"churn\"],axis=1)\n",
    "y=data[\"churn\"]"
   ]
  },
  {
   "attachments": {},
   "cell_type": "markdown",
   "metadata": {},
   "source": []
  },
  {
   "cell_type": "code",
   "execution_count": 27,
   "metadata": {},
   "outputs": [],
   "source": [
    "X_train,X_test,y_train,y_test=train_test_split(X,y,test_size=0.2,random_state=42)"
   ]
  },
  {
   "cell_type": "code",
   "execution_count": 28,
   "metadata": {},
   "outputs": [],
   "source": [
    "\n",
    "scale = StandardScaler()\n",
    "X_train_scaled = scale.fit_transform(X_train)\n",
    "X_test_scaled = scale.transform(X_test)"
   ]
  },
  {
   "cell_type": "code",
   "execution_count": 29,
   "metadata": {},
   "outputs": [],
   "source": [
    "# Logistic Regression\n",
    "base_model = LogisticRegression(random_state=42)\n",
    "\n",
    "#fitting the model\n",
    "base_model.fit(X_train_scaled, y_train)\n",
    "\n",
    " # Predict Test Set\n",
    "y_base_pred_test= base_model.predict(X_test_scaled)\n",
    "y_base_pred_train= base_model.predict(X_train_scaled)\n",
    "\n",
    "\n",
    "\n"
   ]
  },
  {
   "cell_type": "code",
   "execution_count": 30,
   "metadata": {},
   "outputs": [
    {
     "data": {
      "text/plain": [
       "0.8575712143928036"
      ]
     },
     "execution_count": 30,
     "metadata": {},
     "output_type": "execute_result"
    }
   ],
   "source": [
    "#calculate logistic regression score\n",
    "lr_score = base_model.score(X_test_scaled, y_test)\n",
    "lr_score\n",
    "\n"
   ]
  },
  {
   "cell_type": "code",
   "execution_count": 31,
   "metadata": {},
   "outputs": [
    {
     "data": {
      "text/plain": [
       "array([0.85580524, 0.86866792, 0.87054409, 0.84803002, 0.8630394 ])"
      ]
     },
     "execution_count": 31,
     "metadata": {},
     "output_type": "execute_result"
    }
   ],
   "source": [
    "#cross validation of the logistic regression model\n",
    "base_cv = cross_val_score(base_model, X_train_scaled, y_train)\n",
    "base_cv\n",
    "\n",
    "\n",
    "\n"
   ]
  },
  {
   "cell_type": "code",
   "execution_count": 33,
   "metadata": {},
   "outputs": [
    {
     "name": "stdout",
     "output_type": "stream",
     "text": [
      "              precision    recall  f1-score   support\n",
      "\n",
      "           0       0.87      0.98      0.92       566\n",
      "           1       0.60      0.18      0.27       101\n",
      "\n",
      "    accuracy                           0.86       667\n",
      "   macro avg       0.73      0.58      0.60       667\n",
      "weighted avg       0.83      0.86      0.82       667\n",
      "\n"
     ]
    }
   ],
   "source": [
    "#classification report on the testing data\n",
    "base_report = classification_report(y_test, y_base_pred_test)\n",
    "print(base_report)"
   ]
  },
  {
   "attachments": {},
   "cell_type": "markdown",
   "metadata": {},
   "source": [
    "* Observing our Dataset it will be of much importance and advisable to over look the Recall scores.A higher Recall will be of benefit to SyriaTel company as it will be able to classify the false positive(incorrectly identifying a customer as likely to leave ) may be less costly as a business can take steps to retain the customer.Recall will therefore be an evaluation metric for this project\n",
    "\n",
    "The model has an accuracy of 86% on the test data,with a lower recall of 18% and therefore cannot be relied on prediction of the unseen data."
   ]
  },
  {
   "cell_type": "code",
   "execution_count": 35,
   "metadata": {},
   "outputs": [
    {
     "name": "stdout",
     "output_type": "stream",
     "text": [
      "Imbalanced Data\n",
      "Train Data :  2666\n",
      "Test Data :  667\n"
     ]
    }
   ],
   "source": [
    "#checking for imbalance \n",
    "if (len(y_train) / len(y_test) > 2 or len(y_test) / len(y_train) > 2):\n",
    "    print(\"Imbalanced Data\")\n",
    "    print(\"Train Data : \", len(y_train))\n",
    "    print(\"Test Data : \", len(y_test))\n",
    "    \n",
    "    "
   ]
  },
  {
   "attachments": {},
   "cell_type": "markdown",
   "metadata": {},
   "source": [
    "There seems to be an imbalance in the dataset and we may consider using SMOTE to balance the dataset on the other models"
   ]
  },
  {
   "cell_type": "code",
   "execution_count": 50,
   "metadata": {},
   "outputs": [],
   "source": [
    "#from imblearn.over_sampling import SMOTE\n",
    "\n",
    "# X_train contains the input features and y_train contains the target variable\n",
    "\n",
    "# Create the SMOTE object\n",
    "smote = SMOTE()\n",
    "\n",
    "# Resample the training data using SMOTE\n",
    "X_train_resampled, y_train_resampled = smote.fit_resample(X_train, y_train)"
   ]
  },
  {
   "cell_type": "code",
   "execution_count": null,
   "metadata": {},
   "outputs": [],
   "source": []
  },
  {
   "attachments": {},
   "cell_type": "markdown",
   "metadata": {},
   "source": [
    "* Model 2.Decision tree"
   ]
  },
  {
   "cell_type": "code",
   "execution_count": 51,
   "metadata": {},
   "outputs": [
    {
     "data": {
      "text/html": [
       "<style>#sk-container-id-5 {color: black;background-color: white;}#sk-container-id-5 pre{padding: 0;}#sk-container-id-5 div.sk-toggleable {background-color: white;}#sk-container-id-5 label.sk-toggleable__label {cursor: pointer;display: block;width: 100%;margin-bottom: 0;padding: 0.3em;box-sizing: border-box;text-align: center;}#sk-container-id-5 label.sk-toggleable__label-arrow:before {content: \"▸\";float: left;margin-right: 0.25em;color: #696969;}#sk-container-id-5 label.sk-toggleable__label-arrow:hover:before {color: black;}#sk-container-id-5 div.sk-estimator:hover label.sk-toggleable__label-arrow:before {color: black;}#sk-container-id-5 div.sk-toggleable__content {max-height: 0;max-width: 0;overflow: hidden;text-align: left;background-color: #f0f8ff;}#sk-container-id-5 div.sk-toggleable__content pre {margin: 0.2em;color: black;border-radius: 0.25em;background-color: #f0f8ff;}#sk-container-id-5 input.sk-toggleable__control:checked~div.sk-toggleable__content {max-height: 200px;max-width: 100%;overflow: auto;}#sk-container-id-5 input.sk-toggleable__control:checked~label.sk-toggleable__label-arrow:before {content: \"▾\";}#sk-container-id-5 div.sk-estimator input.sk-toggleable__control:checked~label.sk-toggleable__label {background-color: #d4ebff;}#sk-container-id-5 div.sk-label input.sk-toggleable__control:checked~label.sk-toggleable__label {background-color: #d4ebff;}#sk-container-id-5 input.sk-hidden--visually {border: 0;clip: rect(1px 1px 1px 1px);clip: rect(1px, 1px, 1px, 1px);height: 1px;margin: -1px;overflow: hidden;padding: 0;position: absolute;width: 1px;}#sk-container-id-5 div.sk-estimator {font-family: monospace;background-color: #f0f8ff;border: 1px dotted black;border-radius: 0.25em;box-sizing: border-box;margin-bottom: 0.5em;}#sk-container-id-5 div.sk-estimator:hover {background-color: #d4ebff;}#sk-container-id-5 div.sk-parallel-item::after {content: \"\";width: 100%;border-bottom: 1px solid gray;flex-grow: 1;}#sk-container-id-5 div.sk-label:hover label.sk-toggleable__label {background-color: #d4ebff;}#sk-container-id-5 div.sk-serial::before {content: \"\";position: absolute;border-left: 1px solid gray;box-sizing: border-box;top: 0;bottom: 0;left: 50%;z-index: 0;}#sk-container-id-5 div.sk-serial {display: flex;flex-direction: column;align-items: center;background-color: white;padding-right: 0.2em;padding-left: 0.2em;position: relative;}#sk-container-id-5 div.sk-item {position: relative;z-index: 1;}#sk-container-id-5 div.sk-parallel {display: flex;align-items: stretch;justify-content: center;background-color: white;position: relative;}#sk-container-id-5 div.sk-item::before, #sk-container-id-5 div.sk-parallel-item::before {content: \"\";position: absolute;border-left: 1px solid gray;box-sizing: border-box;top: 0;bottom: 0;left: 50%;z-index: -1;}#sk-container-id-5 div.sk-parallel-item {display: flex;flex-direction: column;z-index: 1;position: relative;background-color: white;}#sk-container-id-5 div.sk-parallel-item:first-child::after {align-self: flex-end;width: 50%;}#sk-container-id-5 div.sk-parallel-item:last-child::after {align-self: flex-start;width: 50%;}#sk-container-id-5 div.sk-parallel-item:only-child::after {width: 0;}#sk-container-id-5 div.sk-dashed-wrapped {border: 1px dashed gray;margin: 0 0.4em 0.5em 0.4em;box-sizing: border-box;padding-bottom: 0.4em;background-color: white;}#sk-container-id-5 div.sk-label label {font-family: monospace;font-weight: bold;display: inline-block;line-height: 1.2em;}#sk-container-id-5 div.sk-label-container {text-align: center;}#sk-container-id-5 div.sk-container {/* jupyter's `normalize.less` sets `[hidden] { display: none; }` but bootstrap.min.css set `[hidden] { display: none !important; }` so we also need the `!important` here to be able to override the default hidden behavior on the sphinx rendered scikit-learn.org. See: https://github.com/scikit-learn/scikit-learn/issues/21755 */display: inline-block !important;position: relative;}#sk-container-id-5 div.sk-text-repr-fallback {display: none;}</style><div id=\"sk-container-id-5\" class=\"sk-top-container\"><div class=\"sk-text-repr-fallback\"><pre>DecisionTreeClassifier(max_depth=5, min_samples_leaf=2, min_samples_split=5,\n",
       "                       random_state=42)</pre><b>In a Jupyter environment, please rerun this cell to show the HTML representation or trust the notebook. <br />On GitHub, the HTML representation is unable to render, please try loading this page with nbviewer.org.</b></div><div class=\"sk-container\" hidden><div class=\"sk-item\"><div class=\"sk-estimator sk-toggleable\"><input class=\"sk-toggleable__control sk-hidden--visually\" id=\"sk-estimator-id-9\" type=\"checkbox\" checked><label for=\"sk-estimator-id-9\" class=\"sk-toggleable__label sk-toggleable__label-arrow\">DecisionTreeClassifier</label><div class=\"sk-toggleable__content\"><pre>DecisionTreeClassifier(max_depth=5, min_samples_leaf=2, min_samples_split=5,\n",
       "                       random_state=42)</pre></div></div></div></div></div>"
      ],
      "text/plain": [
       "DecisionTreeClassifier(max_depth=5, min_samples_leaf=2, min_samples_split=5,\n",
       "                       random_state=42)"
      ]
     },
     "execution_count": 51,
     "metadata": {},
     "output_type": "execute_result"
    }
   ],
   "source": [
    "Decision_tree = DecisionTreeClassifier(max_depth=5,min_samples_leaf=2,min_samples_split=5,random_state=42)\n",
    "Decision_tree.fit(X_train_resampled,y_train_resampled)"
   ]
  },
  {
   "cell_type": "code",
   "execution_count": 52,
   "metadata": {},
   "outputs": [
    {
     "data": {
      "text/plain": [
       "array([0.83041575, 0.79102845, 0.77242888, 0.81927711, 0.78203724])"
      ]
     },
     "execution_count": 52,
     "metadata": {},
     "output_type": "execute_result"
    }
   ],
   "source": [
    "#cross validation of Decision tree\n",
    "\n",
    "Decision_tree_cv= cross_val_score(Decision_tree, X_train_resampled, y_train_resampled)\n",
    "Decision_tree_cv"
   ]
  },
  {
   "cell_type": "code",
   "execution_count": 58,
   "metadata": {},
   "outputs": [
    {
     "name": "stdout",
     "output_type": "stream",
     "text": [
      "[[528  38]\n",
      " [ 75  26]]\n",
      "              precision    recall  f1-score   support\n",
      "\n",
      "           0       0.88      0.93      0.90       566\n",
      "           1       0.41      0.26      0.32       101\n",
      "\n",
      "    accuracy                           0.83       667\n",
      "   macro avg       0.64      0.60      0.61       667\n",
      "weighted avg       0.80      0.83      0.81       667\n",
      "\n"
     ]
    },
    {
     "name": "stderr",
     "output_type": "stream",
     "text": [
      "c:\\Users\\HP\\anaconda3\\envs\\learn-env\\lib\\site-packages\\sklearn\\base.py:439: UserWarning: X does not have valid feature names, but DecisionTreeClassifier was fitted with feature names\n",
      "  warnings.warn(\n"
     ]
    }
   ],
   "source": [
    "# Predicting the Test on the decision tree\n",
    "y_pred = Decision_tree.predict(X_test_scaled)\n",
    "# Printing the confusion matrix\n",
    "print(confusion_matrix(y_test, y_pred))\n",
    "# Printing the classification report\n",
    "print(classification_report(y_test, y_pred))\n"
   ]
  },
  {
   "attachments": {},
   "cell_type": "markdown",
   "metadata": {},
   "source": [
    "The model has an 83% accuracy lower than the baseline with a recall of 26% which is much better  perfoming than our baseline model"
   ]
  },
  {
   "attachments": {},
   "cell_type": "markdown",
   "metadata": {},
   "source": [
    "model 3. KKN"
   ]
  },
  {
   "cell_type": "code",
   "execution_count": 39,
   "metadata": {},
   "outputs": [
    {
     "name": "stdout",
     "output_type": "stream",
     "text": [
      "[[549  17]\n",
      " [ 77  24]]\n",
      "              precision    recall  f1-score   support\n",
      "\n",
      "           0       0.88      0.97      0.92       566\n",
      "           1       0.59      0.24      0.34       101\n",
      "\n",
      "    accuracy                           0.86       667\n",
      "   macro avg       0.73      0.60      0.63       667\n",
      "weighted avg       0.83      0.86      0.83       667\n",
      "\n"
     ]
    }
   ],
   "source": [
    "#initiating a KNN classifier\n",
    "knn = KNeighborsClassifier(n_neighbors=5)\n",
    "#fitting the classifier to the training data\n",
    "knn.fit(X_train, y_train)\n",
    "#predicting the labels of the test data\n",
    "y_pred = knn.predict(X_test)\n",
    "#printing the confusion matrix\n",
    "print(confusion_matrix(y_test, y_pred))\n",
    "#printing the classification report\n",
    "print(classification_report(y_test, y_pred))\n"
   ]
  },
  {
   "attachments": {},
   "cell_type": "markdown",
   "metadata": {},
   "source": [
    "The model has a precision of 59% an accuracy  of 86% and a recall of 24% which is not a good one"
   ]
  },
  {
   "attachments": {},
   "cell_type": "markdown",
   "metadata": {},
   "source": [
    "model 4. Random forest"
   ]
  },
  {
   "cell_type": "code",
   "execution_count": 59,
   "metadata": {},
   "outputs": [
    {
     "name": "stdout",
     "output_type": "stream",
     "text": [
      "0.8500749625187406\n",
      "[[566   0]\n",
      " [100   1]]\n",
      "              precision    recall  f1-score   support\n",
      "\n",
      "           0       0.85      1.00      0.92       566\n",
      "           1       1.00      0.01      0.02       101\n",
      "\n",
      "    accuracy                           0.85       667\n",
      "   macro avg       0.92      0.50      0.47       667\n",
      "weighted avg       0.87      0.85      0.78       667\n",
      "\n",
      "1.0\n",
      "0.009900990099009901\n",
      "0.0196078431372549\n"
     ]
    },
    {
     "name": "stderr",
     "output_type": "stream",
     "text": [
      "c:\\Users\\HP\\anaconda3\\envs\\learn-env\\lib\\site-packages\\sklearn\\base.py:439: UserWarning: X does not have valid feature names, but RandomForestClassifier was fitted with feature names\n",
      "  warnings.warn(\n"
     ]
    }
   ],
   "source": [
    "#initiating a random forest classifier\n",
    "\n",
    "clf = RandomForestClassifier(n_estimators=10, random_state=42,max_depth=5)\n",
    "#fitting the classifier\n",
    "clf.fit(X_train_resampled, y_train_resampled)\n",
    "#predicting the outcome\n",
    "y_pred = clf.predict(X_test_scaled)\n",
    "#calculating the accuracy\n",
    "accuracy = metrics.accuracy_score(y_test, y_pred)\n",
    "print(accuracy)\n",
    "#calculating the confusion matrix\n",
    "cm = metrics.confusion_matrix(y_test, y_pred)\n",
    "print(cm)\n",
    "#calculating the classification report\n",
    "cr = metrics.classification_report(y_test, y_pred)\n",
    "print(cr)\n",
    "#calculating the precision\n",
    "precision = metrics.precision_score(y_test, y_pred)\n",
    "print(precision)\n",
    "#calculating the recall\n",
    "recall = metrics.recall_score(y_test, y_pred)\n",
    "print(recall)\n",
    "#calculating the f1 score\n",
    "f1 = metrics.f1_score(y_test, y_pred)\n",
    "print(f1)\n",
    "\n"
   ]
  },
  {
   "attachments": {},
   "cell_type": "markdown",
   "metadata": {},
   "source": [
    "* The model has a an accuracy of 85% performing better than decision tree with a very low Recall of 10%"
   ]
  },
  {
   "attachments": {},
   "cell_type": "markdown",
   "metadata": {},
   "source": []
  },
  {
   "attachments": {},
   "cell_type": "markdown",
   "metadata": {},
   "source": []
  },
  {
   "attachments": {},
   "cell_type": "markdown",
   "metadata": {},
   "source": [
    "#### comparing hyper parameters tuning with GridSearch CV for both Desicion Tree and RandomForest"
   ]
  },
  {
   "cell_type": "code",
   "execution_count": 64,
   "metadata": {},
   "outputs": [
    {
     "name": "stdout",
     "output_type": "stream",
     "text": [
      "Random forest is better, with accuracy: 0.7128712871287128\n"
     ]
    }
   ],
   "source": [
    "\n",
    "# Define the hyperparameter grids for the decision tree and random forest models\n",
    "dt_param_grid = {'max_depth': [3, 5, 7], 'min_samples_split': [2, 5, 10]}\n",
    "rf_param_grid = {'n_estimators': [50, 100, 200], 'max_depth': [5, 10, 20], 'min_samples_split': [2, 5, 10]}\n",
    "\n",
    "# Create the GridSearchCV objects for the decision tree and random forest models\n",
    "dt_grid_search = GridSearchCV(DecisionTreeClassifier(), dt_param_grid, cv=5)\n",
    "rf_grid_search = GridSearchCV(RandomForestClassifier(), rf_param_grid, cv=5)\n",
    "\n",
    "# Fit the GridSearchCV objects to the training data\n",
    "dt_grid_search.fit(X_train, y_train)\n",
    "rf_grid_search.fit(X_train, y_train)\n",
    "\n",
    "# Get the best hyperparameters and the best scores for the models\n",
    "dt_best_params = dt_grid_search.best_params_\n",
    "dt_best_score = dt_grid_search.best_score_\n",
    "rf_best_params = rf_grid_search.best_params_\n",
    "rf_best_score = rf_grid_search.best_score_\n",
    "\n",
    "# Train the decision tree and random forest models with the best hyperparameters on the entire training dataset\n",
    "dt_clf = DecisionTreeClassifier(**dt_best_params)\n",
    "rf_clf = RandomForestClassifier(**rf_best_params)\n",
    "dt_clf.fit(X_train, y_train)\n",
    "rf_clf.fit(X_train, y_train)\n",
    "\n",
    "# Make predictions on the test data and evaluate the performance of the models using accuracy\n",
    "dt_y_pred = dt_clf.predict(X_test)\n",
    "rf_y_pred = rf_clf.predict(X_test)\n",
    "dt_recall = recall_score(y_test, dt_y_pred)\n",
    "rf_recall = recall_score(y_test, rf_y_pred)\n",
    "\n",
    "# Compare the performance of the decision tree and random forest models based on recall and select the best one\n",
    "if dt_recall > rf_recall:\n",
    "    print('Decision tree is better, with recall:', dt_recall)\n",
    "else:\n",
    "    print('Random forest is better, with recall:', rf_recall)"
   ]
  },
  {
   "attachments": {},
   "cell_type": "markdown",
   "metadata": {},
   "source": [
    "* Having to tune our RandomForest improves the Recall of our model to 71% .it means that the model correctly identified 71% of the churn test dataset.  The model is good at identifying positive cases which is now better in prediction of our unseen data due to generalization"
   ]
  },
  {
   "attachments": {},
   "cell_type": "markdown",
   "metadata": {},
   "source": [
    "### Conclusion"
   ]
  },
  {
   "attachments": {},
   "cell_type": "markdown",
   "metadata": {},
   "source": [
    "* Logistic Regression\n",
    "Recall score(test) = 18%\n",
    "\n",
    "* Decision Tree\n",
    "Recall score(test) = 26%\n",
    "\n",
    "* Random Forest\n",
    "Recall score (test)= 10%\n",
    "* Random Forest with Gridsearch CV\n",
    "Recall score (test)=71.2%\n",
    "\n"
   ]
  },
  {
   "attachments": {},
   "cell_type": "markdown",
   "metadata": {},
   "source": [
    "### RECOMENDATION"
   ]
  },
  {
   "attachments": {},
   "cell_type": "markdown",
   "metadata": {},
   "source": [
    "* Further investigation should be devoted to looking into the other characteristics of these customers to find out why there was a need to make this many calls to customer service and how the company could better assist these customers.\n",
    "* Given that over 42% of international plan holders churn, further investigation into retention efforts for these customers might be a worthwhile effort.\n",
    "\n",
    "* SyriaTel should target on addressing customer issues in a timely and effective manner, as many calls made to them through the customer service led to them churning so as  to reduce customer churn and improve overall customer satisfaction.\n"
   ]
  },
  {
   "attachments": {},
   "cell_type": "markdown",
   "metadata": {},
   "source": []
  }
 ],
 "metadata": {
  "kernelspec": {
   "display_name": "Python (learn-env)",
   "language": "python",
   "name": "learn-env"
  },
  "language_info": {
   "codemirror_mode": {
    "name": "ipython",
    "version": 3
   },
   "file_extension": ".py",
   "mimetype": "text/x-python",
   "name": "python",
   "nbconvert_exporter": "python",
   "pygments_lexer": "ipython3",
   "version": "3.8.5"
  },
  "orig_nbformat": 4
 },
 "nbformat": 4,
 "nbformat_minor": 2
}
